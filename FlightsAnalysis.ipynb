{
 "cells": [
  {
   "cell_type": "markdown",
   "metadata": {},
   "source": [
    "# Import Libraries and Load Data"
   ]
  },
  {
   "cell_type": "code",
   "execution_count": 13,
   "metadata": {},
   "outputs": [],
   "source": [
    "import numpy as np\n",
    "import pandas as pd\n",
    "import matplotlib.pyplot as plt\n",
    "import seaborn as sns\n",
    "import datetime\n",
    "from mpl_toolkits.basemap import Basemap\n",
    "import folium\n",
    "import ipywidgets as widgets\n",
    "from ipywidgets import interact, interact_manual\n",
    "\n",
    "%matplotlib inline\n",
    "sns.set_color_codes(\"pastel\")"
   ]
  },
  {
   "cell_type": "code",
   "execution_count": 14,
   "metadata": {},
   "outputs": [],
   "source": [
    "cancel_reason = ['Carrier','Weather','NAS','Security']"
   ]
  },
  {
   "cell_type": "code",
   "execution_count": 15,
   "metadata": {},
   "outputs": [],
   "source": [
    "#Import all data\n",
    "flights_df = pd.read_csv('2008.csv')\n",
    "airports_df = pd.read_csv('airports.csv')\n",
    "carriers_df = pd.read_csv('carriers.csv')\n",
    "\n",
    "#Change case of column names\n",
    "flights_df.columns = [column.lower() for column in flights_df.columns]\n",
    "\n",
    "#Backup main data\n",
    "df = flights_df.copy()"
   ]
  },
  {
   "cell_type": "code",
   "execution_count": 8,
   "metadata": {},
   "outputs": [
    {
     "data": {
      "text/html": [
       "<div>\n",
       "<style scoped>\n",
       "    .dataframe tbody tr th:only-of-type {\n",
       "        vertical-align: middle;\n",
       "    }\n",
       "\n",
       "    .dataframe tbody tr th {\n",
       "        vertical-align: top;\n",
       "    }\n",
       "\n",
       "    .dataframe thead th {\n",
       "        text-align: right;\n",
       "    }\n",
       "</style>\n",
       "<table border=\"1\" class=\"dataframe\">\n",
       "  <thead>\n",
       "    <tr style=\"text-align: right;\">\n",
       "      <th></th>\n",
       "      <th>year</th>\n",
       "      <th>month</th>\n",
       "      <th>dayofmonth</th>\n",
       "      <th>dayofweek</th>\n",
       "      <th>deptime</th>\n",
       "      <th>crsdeptime</th>\n",
       "      <th>arrtime</th>\n",
       "      <th>crsarrtime</th>\n",
       "      <th>uniquecarrier</th>\n",
       "      <th>flightnum</th>\n",
       "      <th>...</th>\n",
       "      <th>taxiin</th>\n",
       "      <th>taxiout</th>\n",
       "      <th>cancelled</th>\n",
       "      <th>cancellationcode</th>\n",
       "      <th>diverted</th>\n",
       "      <th>carrierdelay</th>\n",
       "      <th>weatherdelay</th>\n",
       "      <th>nasdelay</th>\n",
       "      <th>securitydelay</th>\n",
       "      <th>lateaircraftdelay</th>\n",
       "    </tr>\n",
       "  </thead>\n",
       "  <tbody>\n",
       "    <tr>\n",
       "      <th>0</th>\n",
       "      <td>2008</td>\n",
       "      <td>1</td>\n",
       "      <td>3</td>\n",
       "      <td>4</td>\n",
       "      <td>2003.0</td>\n",
       "      <td>1955</td>\n",
       "      <td>2211.0</td>\n",
       "      <td>2225</td>\n",
       "      <td>WN</td>\n",
       "      <td>335</td>\n",
       "      <td>...</td>\n",
       "      <td>4.0</td>\n",
       "      <td>8.0</td>\n",
       "      <td>0</td>\n",
       "      <td>NaN</td>\n",
       "      <td>0</td>\n",
       "      <td>NaN</td>\n",
       "      <td>NaN</td>\n",
       "      <td>NaN</td>\n",
       "      <td>NaN</td>\n",
       "      <td>NaN</td>\n",
       "    </tr>\n",
       "    <tr>\n",
       "      <th>1</th>\n",
       "      <td>2008</td>\n",
       "      <td>1</td>\n",
       "      <td>3</td>\n",
       "      <td>4</td>\n",
       "      <td>754.0</td>\n",
       "      <td>735</td>\n",
       "      <td>1002.0</td>\n",
       "      <td>1000</td>\n",
       "      <td>WN</td>\n",
       "      <td>3231</td>\n",
       "      <td>...</td>\n",
       "      <td>5.0</td>\n",
       "      <td>10.0</td>\n",
       "      <td>0</td>\n",
       "      <td>NaN</td>\n",
       "      <td>0</td>\n",
       "      <td>NaN</td>\n",
       "      <td>NaN</td>\n",
       "      <td>NaN</td>\n",
       "      <td>NaN</td>\n",
       "      <td>NaN</td>\n",
       "    </tr>\n",
       "    <tr>\n",
       "      <th>2</th>\n",
       "      <td>2008</td>\n",
       "      <td>1</td>\n",
       "      <td>3</td>\n",
       "      <td>4</td>\n",
       "      <td>628.0</td>\n",
       "      <td>620</td>\n",
       "      <td>804.0</td>\n",
       "      <td>750</td>\n",
       "      <td>WN</td>\n",
       "      <td>448</td>\n",
       "      <td>...</td>\n",
       "      <td>3.0</td>\n",
       "      <td>17.0</td>\n",
       "      <td>0</td>\n",
       "      <td>NaN</td>\n",
       "      <td>0</td>\n",
       "      <td>NaN</td>\n",
       "      <td>NaN</td>\n",
       "      <td>NaN</td>\n",
       "      <td>NaN</td>\n",
       "      <td>NaN</td>\n",
       "    </tr>\n",
       "  </tbody>\n",
       "</table>\n",
       "<p>3 rows × 29 columns</p>\n",
       "</div>"
      ],
      "text/plain": [
       "   year  month  dayofmonth  dayofweek  deptime  crsdeptime  arrtime  \\\n",
       "0  2008      1           3          4   2003.0        1955   2211.0   \n",
       "1  2008      1           3          4    754.0         735   1002.0   \n",
       "2  2008      1           3          4    628.0         620    804.0   \n",
       "\n",
       "   crsarrtime uniquecarrier  flightnum  ... taxiin  taxiout  cancelled  \\\n",
       "0        2225            WN        335  ...    4.0      8.0          0   \n",
       "1        1000            WN       3231  ...    5.0     10.0          0   \n",
       "2         750            WN        448  ...    3.0     17.0          0   \n",
       "\n",
       "   cancellationcode  diverted  carrierdelay weatherdelay nasdelay  \\\n",
       "0               NaN         0           NaN          NaN      NaN   \n",
       "1               NaN         0           NaN          NaN      NaN   \n",
       "2               NaN         0           NaN          NaN      NaN   \n",
       "\n",
       "   securitydelay  lateaircraftdelay  \n",
       "0            NaN                NaN  \n",
       "1            NaN                NaN  \n",
       "2            NaN                NaN  \n",
       "\n",
       "[3 rows x 29 columns]"
      ]
     },
     "execution_count": 8,
     "metadata": {},
     "output_type": "execute_result"
    }
   ],
   "source": [
    "df.head(3)"
   ]
  },
  {
   "cell_type": "code",
   "execution_count": 9,
   "metadata": {},
   "outputs": [
    {
     "data": {
      "text/plain": [
       "Index(['year', 'month', 'dayofmonth', 'dayofweek', 'deptime', 'crsdeptime',\n",
       "       'arrtime', 'crsarrtime', 'uniquecarrier', 'flightnum', 'tailnum',\n",
       "       'actualelapsedtime', 'crselapsedtime', 'airtime', 'arrdelay',\n",
       "       'depdelay', 'origin', 'dest', 'distance', 'taxiin', 'taxiout',\n",
       "       'cancelled', 'cancellationcode', 'diverted', 'carrierdelay',\n",
       "       'weatherdelay', 'nasdelay', 'securitydelay', 'lateaircraftdelay'],\n",
       "      dtype='object')"
      ]
     },
     "execution_count": 9,
     "metadata": {},
     "output_type": "execute_result"
    }
   ],
   "source": [
    "df.columns"
   ]
  },
  {
   "cell_type": "markdown",
   "metadata": {},
   "source": [
    "# Data Statistics"
   ]
  },
  {
   "cell_type": "code",
   "execution_count": 5,
   "metadata": {},
   "outputs": [
    {
     "data": {
      "text/plain": [
       "(7009728, 29)"
      ]
     },
     "execution_count": 5,
     "metadata": {},
     "output_type": "execute_result"
    }
   ],
   "source": [
    "df.shape"
   ]
  },
  {
   "cell_type": "code",
   "execution_count": 7,
   "metadata": {},
   "outputs": [
    {
     "name": "stdout",
     "output_type": "stream",
     "text": [
      "<class 'pandas.core.frame.DataFrame'>\n",
      "RangeIndex: 7009728 entries, 0 to 7009727\n",
      "Data columns (total 29 columns):\n",
      "Year                 int64\n",
      "Month                int64\n",
      "DayofMonth           int64\n",
      "DayOfWeek            int64\n",
      "DepTime              float64\n",
      "CRSDepTime           int64\n",
      "ArrTime              float64\n",
      "CRSArrTime           int64\n",
      "UniqueCarrier        object\n",
      "FlightNum            int64\n",
      "TailNum              object\n",
      "ActualElapsedTime    float64\n",
      "CRSElapsedTime       float64\n",
      "AirTime              float64\n",
      "ArrDelay             float64\n",
      "DepDelay             float64\n",
      "Origin               object\n",
      "Dest                 object\n",
      "Distance             int64\n",
      "TaxiIn               float64\n",
      "TaxiOut              float64\n",
      "Cancelled            int64\n",
      "CancellationCode     object\n",
      "Diverted             int64\n",
      "CarrierDelay         float64\n",
      "WeatherDelay         float64\n",
      "NASDelay             float64\n",
      "SecurityDelay        float64\n",
      "LateAircraftDelay    float64\n",
      "dtypes: float64(14), int64(10), object(5)\n",
      "memory usage: 1.5+ GB\n"
     ]
    }
   ],
   "source": [
    "df.info()"
   ]
  },
  {
   "cell_type": "code",
   "execution_count": 8,
   "metadata": {},
   "outputs": [
    {
     "data": {
      "text/html": [
       "<div>\n",
       "<style scoped>\n",
       "    .dataframe tbody tr th:only-of-type {\n",
       "        vertical-align: middle;\n",
       "    }\n",
       "\n",
       "    .dataframe tbody tr th {\n",
       "        vertical-align: top;\n",
       "    }\n",
       "\n",
       "    .dataframe thead th {\n",
       "        text-align: right;\n",
       "    }\n",
       "</style>\n",
       "<table border=\"1\" class=\"dataframe\">\n",
       "  <thead>\n",
       "    <tr style=\"text-align: right;\">\n",
       "      <th></th>\n",
       "      <th>Year</th>\n",
       "      <th>Month</th>\n",
       "      <th>DayofMonth</th>\n",
       "      <th>DayOfWeek</th>\n",
       "      <th>DepTime</th>\n",
       "      <th>CRSDepTime</th>\n",
       "      <th>ArrTime</th>\n",
       "      <th>CRSArrTime</th>\n",
       "      <th>FlightNum</th>\n",
       "      <th>ActualElapsedTime</th>\n",
       "      <th>...</th>\n",
       "      <th>Distance</th>\n",
       "      <th>TaxiIn</th>\n",
       "      <th>TaxiOut</th>\n",
       "      <th>Cancelled</th>\n",
       "      <th>Diverted</th>\n",
       "      <th>CarrierDelay</th>\n",
       "      <th>WeatherDelay</th>\n",
       "      <th>NASDelay</th>\n",
       "      <th>SecurityDelay</th>\n",
       "      <th>LateAircraftDelay</th>\n",
       "    </tr>\n",
       "  </thead>\n",
       "  <tbody>\n",
       "    <tr>\n",
       "      <th>count</th>\n",
       "      <td>7009728.0</td>\n",
       "      <td>7.009728e+06</td>\n",
       "      <td>7.009728e+06</td>\n",
       "      <td>7.009728e+06</td>\n",
       "      <td>6.873482e+06</td>\n",
       "      <td>7.009728e+06</td>\n",
       "      <td>6.858079e+06</td>\n",
       "      <td>7.009728e+06</td>\n",
       "      <td>7.009728e+06</td>\n",
       "      <td>6.855029e+06</td>\n",
       "      <td>...</td>\n",
       "      <td>7.009728e+06</td>\n",
       "      <td>6.858079e+06</td>\n",
       "      <td>6.872670e+06</td>\n",
       "      <td>7.009728e+06</td>\n",
       "      <td>7.009728e+06</td>\n",
       "      <td>1.524735e+06</td>\n",
       "      <td>1.524735e+06</td>\n",
       "      <td>1.524735e+06</td>\n",
       "      <td>1.524735e+06</td>\n",
       "      <td>1.524735e+06</td>\n",
       "    </tr>\n",
       "    <tr>\n",
       "      <th>mean</th>\n",
       "      <td>2008.0</td>\n",
       "      <td>6.375130e+00</td>\n",
       "      <td>1.572801e+01</td>\n",
       "      <td>3.924182e+00</td>\n",
       "      <td>1.333830e+03</td>\n",
       "      <td>1.326086e+03</td>\n",
       "      <td>1.481258e+03</td>\n",
       "      <td>1.494801e+03</td>\n",
       "      <td>2.224200e+03</td>\n",
       "      <td>1.273224e+02</td>\n",
       "      <td>...</td>\n",
       "      <td>7.263870e+02</td>\n",
       "      <td>6.860852e+00</td>\n",
       "      <td>1.645305e+01</td>\n",
       "      <td>1.960618e-02</td>\n",
       "      <td>2.463006e-03</td>\n",
       "      <td>1.577206e+01</td>\n",
       "      <td>3.039031e+00</td>\n",
       "      <td>1.716462e+01</td>\n",
       "      <td>7.497434e-02</td>\n",
       "      <td>2.077098e+01</td>\n",
       "    </tr>\n",
       "    <tr>\n",
       "      <th>std</th>\n",
       "      <td>0.0</td>\n",
       "      <td>3.406737e+00</td>\n",
       "      <td>8.797068e+00</td>\n",
       "      <td>1.988259e+00</td>\n",
       "      <td>4.780689e+02</td>\n",
       "      <td>4.642509e+02</td>\n",
       "      <td>5.052251e+02</td>\n",
       "      <td>4.826728e+02</td>\n",
       "      <td>1.961716e+03</td>\n",
       "      <td>7.018731e+01</td>\n",
       "      <td>...</td>\n",
       "      <td>5.621018e+02</td>\n",
       "      <td>4.933649e+00</td>\n",
       "      <td>1.133280e+01</td>\n",
       "      <td>1.386426e-01</td>\n",
       "      <td>4.956753e-02</td>\n",
       "      <td>4.009912e+01</td>\n",
       "      <td>1.950287e+01</td>\n",
       "      <td>3.189495e+01</td>\n",
       "      <td>1.837940e+00</td>\n",
       "      <td>3.925964e+01</td>\n",
       "    </tr>\n",
       "    <tr>\n",
       "      <th>min</th>\n",
       "      <td>2008.0</td>\n",
       "      <td>1.000000e+00</td>\n",
       "      <td>1.000000e+00</td>\n",
       "      <td>1.000000e+00</td>\n",
       "      <td>1.000000e+00</td>\n",
       "      <td>0.000000e+00</td>\n",
       "      <td>1.000000e+00</td>\n",
       "      <td>0.000000e+00</td>\n",
       "      <td>1.000000e+00</td>\n",
       "      <td>1.200000e+01</td>\n",
       "      <td>...</td>\n",
       "      <td>1.100000e+01</td>\n",
       "      <td>0.000000e+00</td>\n",
       "      <td>0.000000e+00</td>\n",
       "      <td>0.000000e+00</td>\n",
       "      <td>0.000000e+00</td>\n",
       "      <td>0.000000e+00</td>\n",
       "      <td>0.000000e+00</td>\n",
       "      <td>0.000000e+00</td>\n",
       "      <td>0.000000e+00</td>\n",
       "      <td>0.000000e+00</td>\n",
       "    </tr>\n",
       "    <tr>\n",
       "      <th>25%</th>\n",
       "      <td>2008.0</td>\n",
       "      <td>3.000000e+00</td>\n",
       "      <td>8.000000e+00</td>\n",
       "      <td>2.000000e+00</td>\n",
       "      <td>9.280000e+02</td>\n",
       "      <td>9.250000e+02</td>\n",
       "      <td>1.107000e+03</td>\n",
       "      <td>1.115000e+03</td>\n",
       "      <td>6.220000e+02</td>\n",
       "      <td>7.700000e+01</td>\n",
       "      <td>...</td>\n",
       "      <td>3.250000e+02</td>\n",
       "      <td>4.000000e+00</td>\n",
       "      <td>1.000000e+01</td>\n",
       "      <td>0.000000e+00</td>\n",
       "      <td>0.000000e+00</td>\n",
       "      <td>0.000000e+00</td>\n",
       "      <td>0.000000e+00</td>\n",
       "      <td>0.000000e+00</td>\n",
       "      <td>0.000000e+00</td>\n",
       "      <td>0.000000e+00</td>\n",
       "    </tr>\n",
       "    <tr>\n",
       "      <th>50%</th>\n",
       "      <td>2008.0</td>\n",
       "      <td>6.000000e+00</td>\n",
       "      <td>1.600000e+01</td>\n",
       "      <td>4.000000e+00</td>\n",
       "      <td>1.325000e+03</td>\n",
       "      <td>1.320000e+03</td>\n",
       "      <td>1.512000e+03</td>\n",
       "      <td>1.517000e+03</td>\n",
       "      <td>1.571000e+03</td>\n",
       "      <td>1.100000e+02</td>\n",
       "      <td>...</td>\n",
       "      <td>5.810000e+02</td>\n",
       "      <td>6.000000e+00</td>\n",
       "      <td>1.400000e+01</td>\n",
       "      <td>0.000000e+00</td>\n",
       "      <td>0.000000e+00</td>\n",
       "      <td>0.000000e+00</td>\n",
       "      <td>0.000000e+00</td>\n",
       "      <td>6.000000e+00</td>\n",
       "      <td>0.000000e+00</td>\n",
       "      <td>0.000000e+00</td>\n",
       "    </tr>\n",
       "    <tr>\n",
       "      <th>75%</th>\n",
       "      <td>2008.0</td>\n",
       "      <td>9.000000e+00</td>\n",
       "      <td>2.300000e+01</td>\n",
       "      <td>6.000000e+00</td>\n",
       "      <td>1.728000e+03</td>\n",
       "      <td>1.715000e+03</td>\n",
       "      <td>1.909000e+03</td>\n",
       "      <td>1.907000e+03</td>\n",
       "      <td>3.518000e+03</td>\n",
       "      <td>1.570000e+02</td>\n",
       "      <td>...</td>\n",
       "      <td>9.540000e+02</td>\n",
       "      <td>8.000000e+00</td>\n",
       "      <td>1.900000e+01</td>\n",
       "      <td>0.000000e+00</td>\n",
       "      <td>0.000000e+00</td>\n",
       "      <td>1.600000e+01</td>\n",
       "      <td>0.000000e+00</td>\n",
       "      <td>2.100000e+01</td>\n",
       "      <td>0.000000e+00</td>\n",
       "      <td>2.600000e+01</td>\n",
       "    </tr>\n",
       "    <tr>\n",
       "      <th>max</th>\n",
       "      <td>2008.0</td>\n",
       "      <td>1.200000e+01</td>\n",
       "      <td>3.100000e+01</td>\n",
       "      <td>7.000000e+00</td>\n",
       "      <td>2.400000e+03</td>\n",
       "      <td>2.359000e+03</td>\n",
       "      <td>2.400000e+03</td>\n",
       "      <td>2.400000e+03</td>\n",
       "      <td>9.743000e+03</td>\n",
       "      <td>1.379000e+03</td>\n",
       "      <td>...</td>\n",
       "      <td>4.962000e+03</td>\n",
       "      <td>3.080000e+02</td>\n",
       "      <td>4.290000e+02</td>\n",
       "      <td>1.000000e+00</td>\n",
       "      <td>1.000000e+00</td>\n",
       "      <td>2.436000e+03</td>\n",
       "      <td>1.352000e+03</td>\n",
       "      <td>1.357000e+03</td>\n",
       "      <td>3.920000e+02</td>\n",
       "      <td>1.316000e+03</td>\n",
       "    </tr>\n",
       "  </tbody>\n",
       "</table>\n",
       "<p>8 rows × 24 columns</p>\n",
       "</div>"
      ],
      "text/plain": [
       "            Year         Month    DayofMonth     DayOfWeek       DepTime  \\\n",
       "count  7009728.0  7.009728e+06  7.009728e+06  7.009728e+06  6.873482e+06   \n",
       "mean      2008.0  6.375130e+00  1.572801e+01  3.924182e+00  1.333830e+03   \n",
       "std          0.0  3.406737e+00  8.797068e+00  1.988259e+00  4.780689e+02   \n",
       "min       2008.0  1.000000e+00  1.000000e+00  1.000000e+00  1.000000e+00   \n",
       "25%       2008.0  3.000000e+00  8.000000e+00  2.000000e+00  9.280000e+02   \n",
       "50%       2008.0  6.000000e+00  1.600000e+01  4.000000e+00  1.325000e+03   \n",
       "75%       2008.0  9.000000e+00  2.300000e+01  6.000000e+00  1.728000e+03   \n",
       "max       2008.0  1.200000e+01  3.100000e+01  7.000000e+00  2.400000e+03   \n",
       "\n",
       "         CRSDepTime       ArrTime    CRSArrTime     FlightNum  \\\n",
       "count  7.009728e+06  6.858079e+06  7.009728e+06  7.009728e+06   \n",
       "mean   1.326086e+03  1.481258e+03  1.494801e+03  2.224200e+03   \n",
       "std    4.642509e+02  5.052251e+02  4.826728e+02  1.961716e+03   \n",
       "min    0.000000e+00  1.000000e+00  0.000000e+00  1.000000e+00   \n",
       "25%    9.250000e+02  1.107000e+03  1.115000e+03  6.220000e+02   \n",
       "50%    1.320000e+03  1.512000e+03  1.517000e+03  1.571000e+03   \n",
       "75%    1.715000e+03  1.909000e+03  1.907000e+03  3.518000e+03   \n",
       "max    2.359000e+03  2.400000e+03  2.400000e+03  9.743000e+03   \n",
       "\n",
       "       ActualElapsedTime  ...      Distance        TaxiIn       TaxiOut  \\\n",
       "count       6.855029e+06  ...  7.009728e+06  6.858079e+06  6.872670e+06   \n",
       "mean        1.273224e+02  ...  7.263870e+02  6.860852e+00  1.645305e+01   \n",
       "std         7.018731e+01  ...  5.621018e+02  4.933649e+00  1.133280e+01   \n",
       "min         1.200000e+01  ...  1.100000e+01  0.000000e+00  0.000000e+00   \n",
       "25%         7.700000e+01  ...  3.250000e+02  4.000000e+00  1.000000e+01   \n",
       "50%         1.100000e+02  ...  5.810000e+02  6.000000e+00  1.400000e+01   \n",
       "75%         1.570000e+02  ...  9.540000e+02  8.000000e+00  1.900000e+01   \n",
       "max         1.379000e+03  ...  4.962000e+03  3.080000e+02  4.290000e+02   \n",
       "\n",
       "          Cancelled      Diverted  CarrierDelay  WeatherDelay      NASDelay  \\\n",
       "count  7.009728e+06  7.009728e+06  1.524735e+06  1.524735e+06  1.524735e+06   \n",
       "mean   1.960618e-02  2.463006e-03  1.577206e+01  3.039031e+00  1.716462e+01   \n",
       "std    1.386426e-01  4.956753e-02  4.009912e+01  1.950287e+01  3.189495e+01   \n",
       "min    0.000000e+00  0.000000e+00  0.000000e+00  0.000000e+00  0.000000e+00   \n",
       "25%    0.000000e+00  0.000000e+00  0.000000e+00  0.000000e+00  0.000000e+00   \n",
       "50%    0.000000e+00  0.000000e+00  0.000000e+00  0.000000e+00  6.000000e+00   \n",
       "75%    0.000000e+00  0.000000e+00  1.600000e+01  0.000000e+00  2.100000e+01   \n",
       "max    1.000000e+00  1.000000e+00  2.436000e+03  1.352000e+03  1.357000e+03   \n",
       "\n",
       "       SecurityDelay  LateAircraftDelay  \n",
       "count   1.524735e+06       1.524735e+06  \n",
       "mean    7.497434e-02       2.077098e+01  \n",
       "std     1.837940e+00       3.925964e+01  \n",
       "min     0.000000e+00       0.000000e+00  \n",
       "25%     0.000000e+00       0.000000e+00  \n",
       "50%     0.000000e+00       0.000000e+00  \n",
       "75%     0.000000e+00       2.600000e+01  \n",
       "max     3.920000e+02       1.316000e+03  \n",
       "\n",
       "[8 rows x 24 columns]"
      ]
     },
     "execution_count": 8,
     "metadata": {},
     "output_type": "execute_result"
    }
   ],
   "source": [
    "df.describe()"
   ]
  },
  {
   "cell_type": "code",
   "execution_count": 11,
   "metadata": {},
   "outputs": [
    {
     "data": {
      "text/plain": [
       "Year                    1\n",
       "Month                  12\n",
       "DayofMonth             31\n",
       "DayOfWeek               7\n",
       "DepTime              1440\n",
       "CRSDepTime           1217\n",
       "ArrTime              1440\n",
       "CRSArrTime           1378\n",
       "UniqueCarrier          20\n",
       "FlightNum            7539\n",
       "TailNum              5373\n",
       "ActualElapsedTime     689\n",
       "CRSElapsedTime        525\n",
       "AirTime               663\n",
       "ArrDelay             1153\n",
       "DepDelay             1134\n",
       "Origin                303\n",
       "Dest                  304\n",
       "Distance             1435\n",
       "TaxiIn                190\n",
       "TaxiOut               342\n",
       "Cancelled               2\n",
       "CancellationCode        4\n",
       "Diverted                2\n",
       "CarrierDelay          984\n",
       "WeatherDelay          599\n",
       "NASDelay              574\n",
       "SecurityDelay         156\n",
       "LateAircraftDelay     564\n",
       "dtype: int64"
      ]
     },
     "execution_count": 11,
     "metadata": {},
     "output_type": "execute_result"
    }
   ],
   "source": [
    "df.nunique()"
   ]
  },
  {
   "cell_type": "markdown",
   "metadata": {},
   "source": [
    "## Null Values"
   ]
  },
  {
   "cell_type": "code",
   "execution_count": 35,
   "metadata": {},
   "outputs": [
    {
     "data": {
      "text/plain": [
       "Year                       0\n",
       "Month                      0\n",
       "DayofMonth                 0\n",
       "DayOfWeek                  0\n",
       "DepTime               136246\n",
       "CRSDepTime                 0\n",
       "ArrTime               151649\n",
       "CRSArrTime                 0\n",
       "UniqueCarrier              0\n",
       "FlightNum                  0\n",
       "TailNum                83365\n",
       "ActualElapsedTime     154699\n",
       "CRSElapsedTime           844\n",
       "AirTime               154699\n",
       "ArrDelay              154699\n",
       "DepDelay              136246\n",
       "Origin                     0\n",
       "Dest                       0\n",
       "Distance                   0\n",
       "TaxiIn                151649\n",
       "TaxiOut               137058\n",
       "Cancelled                  0\n",
       "CancellationCode     6872294\n",
       "Diverted                   0\n",
       "CarrierDelay         5484993\n",
       "WeatherDelay         5484993\n",
       "NASDelay             5484993\n",
       "SecurityDelay        5484993\n",
       "LateAircraftDelay    5484993\n",
       "dtype: int64"
      ]
     },
     "execution_count": 35,
     "metadata": {},
     "output_type": "execute_result"
    }
   ],
   "source": [
    "df.isna().sum()"
   ]
  },
  {
   "cell_type": "code",
   "execution_count": 53,
   "metadata": {},
   "outputs": [
    {
     "data": {
      "text/plain": [
       "Year                       0\n",
       "Month                      0\n",
       "DayofMonth                 0\n",
       "DayOfWeek                  0\n",
       "DepTime                    0\n",
       "CRSDepTime                 0\n",
       "ArrTime                    0\n",
       "CRSArrTime                 0\n",
       "UniqueCarrier              0\n",
       "FlightNum                  0\n",
       "TailNum                    5\n",
       "ActualElapsedTime          0\n",
       "CRSElapsedTime             0\n",
       "AirTime                    0\n",
       "ArrDelay                   0\n",
       "DepDelay                   0\n",
       "Origin                     0\n",
       "Dest                       0\n",
       "Distance                   0\n",
       "TaxiIn                     0\n",
       "TaxiOut                    0\n",
       "Cancelled                  0\n",
       "CancellationCode     6855029\n",
       "Diverted                   0\n",
       "CarrierDelay         5330294\n",
       "WeatherDelay         5330294\n",
       "NASDelay             5330294\n",
       "SecurityDelay        5330294\n",
       "LateAircraftDelay    5330294\n",
       "dtype: int64"
      ]
     },
     "execution_count": 53,
     "metadata": {},
     "output_type": "execute_result"
    }
   ],
   "source": [
    "#Confirm that missing time data (arrival/departure) is due to cancelled/diverted planes\n",
    "df[(df.Cancelled==False) & (df.Diverted==False)].isna().sum()"
   ]
  },
  {
   "cell_type": "markdown",
   "metadata": {},
   "source": [
    "## Issues to fix\n",
    "\n",
    "<ul>\n",
    "  <li>Change type of columns expressed in hours/minutes time object</li>\n",
    "  <li>Change type of columns expressed in minutes to int</li>\n",
    "  <li>Replace NaN values for time columns with 0</li>\n",
    "  <li>Change type of cancelled,diverted columns to boolean</li>\n",
    "  <li>Change cancellation code, unique carrier to categorical</li>\n",
    "  <li>Drop Taxi Time related data</li>  \n",
    "</ul>"
   ]
  },
  {
   "cell_type": "markdown",
   "metadata": {},
   "source": [
    "# Data Wrangling "
   ]
  },
  {
   "cell_type": "markdown",
   "metadata": {},
   "source": [
    "## Drop unused data"
   ]
  },
  {
   "cell_type": "markdown",
   "metadata": {},
   "source": [
    "### Fix"
   ]
  },
  {
   "cell_type": "code",
   "execution_count": 16,
   "metadata": {},
   "outputs": [],
   "source": [
    "drop_columns = ['taxiin','taxiout','year','diverted','tailnum','actualelapsedtime','crselapsedtime']\n",
    "df.drop(columns=drop_columns,inplace=True)"
   ]
  },
  {
   "cell_type": "markdown",
   "metadata": {},
   "source": [
    "### Test"
   ]
  },
  {
   "cell_type": "code",
   "execution_count": 11,
   "metadata": {},
   "outputs": [
    {
     "data": {
      "text/plain": [
       "Index(['month', 'dayofmonth', 'dayofweek', 'deptime', 'crsdeptime', 'arrtime',\n",
       "       'crsarrtime', 'uniquecarrier', 'flightnum', 'airtime', 'arrdelay',\n",
       "       'depdelay', 'origin', 'dest', 'distance', 'cancelled',\n",
       "       'cancellationcode', 'carrierdelay', 'weatherdelay', 'nasdelay',\n",
       "       'securitydelay', 'lateaircraftdelay'],\n",
       "      dtype='object')"
      ]
     },
     "execution_count": 11,
     "metadata": {},
     "output_type": "execute_result"
    }
   ],
   "source": [
    "df.columns"
   ]
  },
  {
   "cell_type": "markdown",
   "metadata": {},
   "source": [
    "## Categorical variables"
   ]
  },
  {
   "cell_type": "markdown",
   "metadata": {},
   "source": [
    "### Fix"
   ]
  },
  {
   "cell_type": "code",
   "execution_count": 17,
   "metadata": {},
   "outputs": [],
   "source": [
    "df[['cancellationcode','uniquecarrier']] = df[['cancellationcode','uniquecarrier']].astype('category')"
   ]
  },
  {
   "cell_type": "markdown",
   "metadata": {},
   "source": [
    "### Test"
   ]
  },
  {
   "cell_type": "code",
   "execution_count": 14,
   "metadata": {},
   "outputs": [
    {
     "data": {
      "text/plain": [
       "[NaN, A, C, B, D]\n",
       "Categories (4, object): [A, C, B, D]"
      ]
     },
     "execution_count": 14,
     "metadata": {},
     "output_type": "execute_result"
    }
   ],
   "source": [
    "df.CancellationCode.unique()"
   ]
  },
  {
   "cell_type": "code",
   "execution_count": 14,
   "metadata": {},
   "outputs": [
    {
     "data": {
      "text/plain": [
       "[WN, XE, YV, OH, OO, ..., AA, AQ, AS, B6, CO]\n",
       "Length: 20\n",
       "Categories (20, object): [WN, XE, YV, OH, ..., AQ, AS, B6, CO]"
      ]
     },
     "execution_count": 14,
     "metadata": {},
     "output_type": "execute_result"
    }
   ],
   "source": [
    "df.uniquecarrier.unique()"
   ]
  },
  {
   "cell_type": "markdown",
   "metadata": {},
   "source": [
    "## Boolean variables"
   ]
  },
  {
   "cell_type": "markdown",
   "metadata": {},
   "source": [
    "### Fix"
   ]
  },
  {
   "cell_type": "code",
   "execution_count": 18,
   "metadata": {},
   "outputs": [],
   "source": [
    "df[['cancelled']] = df[['cancelled']].astype('bool')"
   ]
  },
  {
   "cell_type": "markdown",
   "metadata": {},
   "source": [
    "### Test"
   ]
  },
  {
   "cell_type": "code",
   "execution_count": 21,
   "metadata": {},
   "outputs": [
    {
     "data": {
      "text/plain": [
       "dtype('bool')"
      ]
     },
     "execution_count": 21,
     "metadata": {},
     "output_type": "execute_result"
    }
   ],
   "source": [
    "df.Cancelled.dtype"
   ]
  },
  {
   "cell_type": "markdown",
   "metadata": {},
   "source": [
    "## Null Values"
   ]
  },
  {
   "cell_type": "markdown",
   "metadata": {},
   "source": [
    "### Fix"
   ]
  },
  {
   "cell_type": "code",
   "execution_count": 19,
   "metadata": {},
   "outputs": [
    {
     "name": "stdout",
     "output_type": "stream",
     "text": [
      "Index(['deptime', 'crsdeptime', 'arrtime', 'crsarrtime', 'airtime', 'arrdelay',\n",
      "       'depdelay', 'carrierdelay', 'weatherdelay', 'nasdelay', 'securitydelay',\n",
      "       'lateaircraftdelay'],\n",
      "      dtype='object')\n"
     ]
    }
   ],
   "source": [
    "time_columns = df.columns[(df.columns.str.contains('time'))|(df.columns.str.contains('delay'))]\n",
    "print(time_columns)\n",
    "df[time_columns] = df[time_columns].fillna(0)"
   ]
  },
  {
   "cell_type": "markdown",
   "metadata": {},
   "source": [
    "### Test"
   ]
  },
  {
   "cell_type": "code",
   "execution_count": 65,
   "metadata": {},
   "outputs": [
    {
     "data": {
      "text/plain": [
       "Year                       0\n",
       "Month                      0\n",
       "DayofMonth                 0\n",
       "DayOfWeek                  0\n",
       "DepTime                    0\n",
       "CRSDepTime                 0\n",
       "ArrTime                    0\n",
       "CRSArrTime                 0\n",
       "UniqueCarrier              0\n",
       "FlightNum                  0\n",
       "TailNum                83365\n",
       "ActualElapsedTime          0\n",
       "CRSElapsedTime             0\n",
       "AirTime                    0\n",
       "ArrDelay                   0\n",
       "DepDelay                   0\n",
       "Origin                     0\n",
       "Dest                       0\n",
       "Distance                   0\n",
       "Cancelled                  0\n",
       "CancellationCode     6872294\n",
       "Diverted                   0\n",
       "CarrierDelay               0\n",
       "WeatherDelay               0\n",
       "NASDelay                   0\n",
       "SecurityDelay              0\n",
       "LateAircraftDelay          0\n",
       "dtype: int64"
      ]
     },
     "execution_count": 65,
     "metadata": {},
     "output_type": "execute_result"
    }
   ],
   "source": [
    "df.isna().sum()"
   ]
  },
  {
   "cell_type": "markdown",
   "metadata": {},
   "source": [
    "## Time variables"
   ]
  },
  {
   "cell_type": "markdown",
   "metadata": {},
   "source": [
    "### Fix"
   ]
  },
  {
   "cell_type": "code",
   "execution_count": 20,
   "metadata": {},
   "outputs": [],
   "source": [
    "#Make all columns integers\n",
    "df[time_columns] = df[time_columns].astype(int)"
   ]
  },
  {
   "cell_type": "code",
   "execution_count": 21,
   "metadata": {},
   "outputs": [
    {
     "data": {
      "text/plain": [
       "Index(['deptime', 'crsdeptime', 'arrtime', 'crsarrtime'], dtype='object')"
      ]
     },
     "execution_count": 21,
     "metadata": {},
     "output_type": "execute_result"
    }
   ],
   "source": [
    "#select the columns in HH:MM format\n",
    "time_columns = time_columns[:4]\n",
    "time_columns "
   ]
  },
  {
   "cell_type": "code",
   "execution_count": 22,
   "metadata": {},
   "outputs": [
    {
     "name": "stdout",
     "output_type": "stream",
     "text": [
      "[2400]\n",
      "[]\n",
      "[]\n",
      "[]\n",
      "[2400]\n",
      "[]\n",
      "[2400]\n",
      "[]\n"
     ]
    }
   ],
   "source": [
    "#In order to convert column to type ensure all hours are between 0 and 23 and all minutes are between 0 and 59\n",
    "#Do this for all columns\n",
    "for column in time_columns:\n",
    "    print(df[df[column] > 2359][column].unique())\n",
    "    print(df[df[column] % 100 > 59][column].unique())"
   ]
  },
  {
   "cell_type": "code",
   "execution_count": 23,
   "metadata": {},
   "outputs": [],
   "source": [
    "#Replace the values and convert\n",
    "for column in time_columns:\n",
    "    df[column].replace(2400,0,inplace=True)\n",
    "    df[column] = df[column].apply(lambda x: datetime.time(int(x/100), x%100))"
   ]
  },
  {
   "cell_type": "markdown",
   "metadata": {},
   "source": [
    "### Test"
   ]
  },
  {
   "cell_type": "code",
   "execution_count": 16,
   "metadata": {},
   "outputs": [
    {
     "data": {
      "text/plain": [
       "DepTime       object\n",
       "CRSDepTime    object\n",
       "ArrTime       object\n",
       "CRSArrTime    object\n",
       "dtype: object"
      ]
     },
     "execution_count": 16,
     "metadata": {},
     "output_type": "execute_result"
    }
   ],
   "source": [
    "df[time_columns].dtypes"
   ]
  },
  {
   "cell_type": "code",
   "execution_count": 34,
   "metadata": {},
   "outputs": [
    {
     "data": {
      "text/html": [
       "<div>\n",
       "<style scoped>\n",
       "    .dataframe tbody tr th:only-of-type {\n",
       "        vertical-align: middle;\n",
       "    }\n",
       "\n",
       "    .dataframe tbody tr th {\n",
       "        vertical-align: top;\n",
       "    }\n",
       "\n",
       "    .dataframe thead th {\n",
       "        text-align: right;\n",
       "    }\n",
       "</style>\n",
       "<table border=\"1\" class=\"dataframe\">\n",
       "  <thead>\n",
       "    <tr style=\"text-align: right;\">\n",
       "      <th></th>\n",
       "      <th>deptime</th>\n",
       "      <th>crsdeptime</th>\n",
       "      <th>arrtime</th>\n",
       "      <th>crsarrtime</th>\n",
       "    </tr>\n",
       "  </thead>\n",
       "  <tbody>\n",
       "    <tr>\n",
       "      <th>0</th>\n",
       "      <td>20:03:00</td>\n",
       "      <td>19:55:00</td>\n",
       "      <td>22:11:00</td>\n",
       "      <td>22:25:00</td>\n",
       "    </tr>\n",
       "    <tr>\n",
       "      <th>1</th>\n",
       "      <td>07:54:00</td>\n",
       "      <td>07:35:00</td>\n",
       "      <td>10:02:00</td>\n",
       "      <td>10:00:00</td>\n",
       "    </tr>\n",
       "    <tr>\n",
       "      <th>2</th>\n",
       "      <td>06:28:00</td>\n",
       "      <td>06:20:00</td>\n",
       "      <td>08:04:00</td>\n",
       "      <td>07:50:00</td>\n",
       "    </tr>\n",
       "    <tr>\n",
       "      <th>3</th>\n",
       "      <td>09:26:00</td>\n",
       "      <td>09:30:00</td>\n",
       "      <td>10:54:00</td>\n",
       "      <td>11:00:00</td>\n",
       "    </tr>\n",
       "    <tr>\n",
       "      <th>4</th>\n",
       "      <td>18:29:00</td>\n",
       "      <td>17:55:00</td>\n",
       "      <td>19:59:00</td>\n",
       "      <td>19:25:00</td>\n",
       "    </tr>\n",
       "    <tr>\n",
       "      <th>5</th>\n",
       "      <td>19:40:00</td>\n",
       "      <td>19:15:00</td>\n",
       "      <td>21:21:00</td>\n",
       "      <td>21:10:00</td>\n",
       "    </tr>\n",
       "    <tr>\n",
       "      <th>6</th>\n",
       "      <td>19:37:00</td>\n",
       "      <td>18:30:00</td>\n",
       "      <td>20:37:00</td>\n",
       "      <td>19:40:00</td>\n",
       "    </tr>\n",
       "    <tr>\n",
       "      <th>7</th>\n",
       "      <td>10:39:00</td>\n",
       "      <td>10:40:00</td>\n",
       "      <td>11:32:00</td>\n",
       "      <td>11:50:00</td>\n",
       "    </tr>\n",
       "    <tr>\n",
       "      <th>8</th>\n",
       "      <td>06:17:00</td>\n",
       "      <td>06:15:00</td>\n",
       "      <td>06:52:00</td>\n",
       "      <td>06:50:00</td>\n",
       "    </tr>\n",
       "    <tr>\n",
       "      <th>9</th>\n",
       "      <td>16:20:00</td>\n",
       "      <td>16:20:00</td>\n",
       "      <td>16:39:00</td>\n",
       "      <td>16:55:00</td>\n",
       "    </tr>\n",
       "  </tbody>\n",
       "</table>\n",
       "</div>"
      ],
      "text/plain": [
       "    deptime crsdeptime   arrtime crsarrtime\n",
       "0  20:03:00   19:55:00  22:11:00   22:25:00\n",
       "1  07:54:00   07:35:00  10:02:00   10:00:00\n",
       "2  06:28:00   06:20:00  08:04:00   07:50:00\n",
       "3  09:26:00   09:30:00  10:54:00   11:00:00\n",
       "4  18:29:00   17:55:00  19:59:00   19:25:00\n",
       "5  19:40:00   19:15:00  21:21:00   21:10:00\n",
       "6  19:37:00   18:30:00  20:37:00   19:40:00\n",
       "7  10:39:00   10:40:00  11:32:00   11:50:00\n",
       "8  06:17:00   06:15:00  06:52:00   06:50:00\n",
       "9  16:20:00   16:20:00  16:39:00   16:55:00"
      ]
     },
     "execution_count": 34,
     "metadata": {},
     "output_type": "execute_result"
    }
   ],
   "source": [
    "df[time_columns].head(10)"
   ]
  },
  {
   "cell_type": "code",
   "execution_count": 24,
   "metadata": {},
   "outputs": [],
   "source": [
    "flights_df = df.copy()\n",
    "#df.to_csv('flights_clean.csv')"
   ]
  },
  {
   "cell_type": "markdown",
   "metadata": {},
   "source": [
    "# Exploratory Analysis"
   ]
  },
  {
   "cell_type": "code",
   "execution_count": 15,
   "metadata": {},
   "outputs": [
    {
     "data": {
      "text/html": [
       "<div>\n",
       "<style scoped>\n",
       "    .dataframe tbody tr th:only-of-type {\n",
       "        vertical-align: middle;\n",
       "    }\n",
       "\n",
       "    .dataframe tbody tr th {\n",
       "        vertical-align: top;\n",
       "    }\n",
       "\n",
       "    .dataframe thead th {\n",
       "        text-align: right;\n",
       "    }\n",
       "</style>\n",
       "<table border=\"1\" class=\"dataframe\">\n",
       "  <thead>\n",
       "    <tr style=\"text-align: right;\">\n",
       "      <th></th>\n",
       "      <th>Year</th>\n",
       "      <th>Month</th>\n",
       "      <th>DayofMonth</th>\n",
       "      <th>DayOfWeek</th>\n",
       "      <th>DepTime</th>\n",
       "      <th>CRSDepTime</th>\n",
       "      <th>ArrTime</th>\n",
       "      <th>CRSArrTime</th>\n",
       "      <th>UniqueCarrier</th>\n",
       "      <th>FlightNum</th>\n",
       "      <th>...</th>\n",
       "      <th>Dest</th>\n",
       "      <th>Distance</th>\n",
       "      <th>Cancelled</th>\n",
       "      <th>CancellationCode</th>\n",
       "      <th>Diverted</th>\n",
       "      <th>CarrierDelay</th>\n",
       "      <th>WeatherDelay</th>\n",
       "      <th>NASDelay</th>\n",
       "      <th>SecurityDelay</th>\n",
       "      <th>LateAircraftDelay</th>\n",
       "    </tr>\n",
       "  </thead>\n",
       "  <tbody>\n",
       "    <tr>\n",
       "      <th>0</th>\n",
       "      <td>2008</td>\n",
       "      <td>1</td>\n",
       "      <td>3</td>\n",
       "      <td>4</td>\n",
       "      <td>20:03:00</td>\n",
       "      <td>19:55:00</td>\n",
       "      <td>22:11:00</td>\n",
       "      <td>22:25:00</td>\n",
       "      <td>WN</td>\n",
       "      <td>335</td>\n",
       "      <td>...</td>\n",
       "      <td>TPA</td>\n",
       "      <td>810</td>\n",
       "      <td>False</td>\n",
       "      <td>NaN</td>\n",
       "      <td>False</td>\n",
       "      <td>0</td>\n",
       "      <td>0</td>\n",
       "      <td>0</td>\n",
       "      <td>0</td>\n",
       "      <td>0</td>\n",
       "    </tr>\n",
       "    <tr>\n",
       "      <th>1</th>\n",
       "      <td>2008</td>\n",
       "      <td>1</td>\n",
       "      <td>3</td>\n",
       "      <td>4</td>\n",
       "      <td>07:54:00</td>\n",
       "      <td>07:35:00</td>\n",
       "      <td>10:02:00</td>\n",
       "      <td>10:00:00</td>\n",
       "      <td>WN</td>\n",
       "      <td>3231</td>\n",
       "      <td>...</td>\n",
       "      <td>TPA</td>\n",
       "      <td>810</td>\n",
       "      <td>False</td>\n",
       "      <td>NaN</td>\n",
       "      <td>False</td>\n",
       "      <td>0</td>\n",
       "      <td>0</td>\n",
       "      <td>0</td>\n",
       "      <td>0</td>\n",
       "      <td>0</td>\n",
       "    </tr>\n",
       "    <tr>\n",
       "      <th>2</th>\n",
       "      <td>2008</td>\n",
       "      <td>1</td>\n",
       "      <td>3</td>\n",
       "      <td>4</td>\n",
       "      <td>06:28:00</td>\n",
       "      <td>06:20:00</td>\n",
       "      <td>08:04:00</td>\n",
       "      <td>07:50:00</td>\n",
       "      <td>WN</td>\n",
       "      <td>448</td>\n",
       "      <td>...</td>\n",
       "      <td>BWI</td>\n",
       "      <td>515</td>\n",
       "      <td>False</td>\n",
       "      <td>NaN</td>\n",
       "      <td>False</td>\n",
       "      <td>0</td>\n",
       "      <td>0</td>\n",
       "      <td>0</td>\n",
       "      <td>0</td>\n",
       "      <td>0</td>\n",
       "    </tr>\n",
       "  </tbody>\n",
       "</table>\n",
       "<p>3 rows × 27 columns</p>\n",
       "</div>"
      ],
      "text/plain": [
       "   Year  Month  DayofMonth  DayOfWeek   DepTime CRSDepTime   ArrTime  \\\n",
       "0  2008      1           3          4  20:03:00   19:55:00  22:11:00   \n",
       "1  2008      1           3          4  07:54:00   07:35:00  10:02:00   \n",
       "2  2008      1           3          4  06:28:00   06:20:00  08:04:00   \n",
       "\n",
       "  CRSArrTime UniqueCarrier  FlightNum  ... Dest  Distance  Cancelled  \\\n",
       "0   22:25:00            WN        335  ...  TPA       810      False   \n",
       "1   10:00:00            WN       3231  ...  TPA       810      False   \n",
       "2   07:50:00            WN        448  ...  BWI       515      False   \n",
       "\n",
       "   CancellationCode  Diverted  CarrierDelay WeatherDelay NASDelay  \\\n",
       "0               NaN     False             0            0        0   \n",
       "1               NaN     False             0            0        0   \n",
       "2               NaN     False             0            0        0   \n",
       "\n",
       "   SecurityDelay  LateAircraftDelay  \n",
       "0              0                  0  \n",
       "1              0                  0  \n",
       "2              0                  0  \n",
       "\n",
       "[3 rows x 27 columns]"
      ]
     },
     "execution_count": 15,
     "metadata": {},
     "output_type": "execute_result"
    }
   ],
   "source": [
    "df.head(3)"
   ]
  },
  {
   "cell_type": "code",
   "execution_count": 16,
   "metadata": {},
   "outputs": [
    {
     "name": "stdout",
     "output_type": "stream",
     "text": [
      "<class 'pandas.core.frame.DataFrame'>\n",
      "RangeIndex: 7009728 entries, 0 to 7009727\n",
      "Data columns (total 27 columns):\n",
      "Year                 int64\n",
      "Month                int64\n",
      "DayofMonth           int64\n",
      "DayOfWeek            int64\n",
      "DepTime              object\n",
      "CRSDepTime           object\n",
      "ArrTime              object\n",
      "CRSArrTime           object\n",
      "UniqueCarrier        category\n",
      "FlightNum            int64\n",
      "TailNum              object\n",
      "ActualElapsedTime    int32\n",
      "CRSElapsedTime       int32\n",
      "AirTime              int32\n",
      "ArrDelay             int32\n",
      "DepDelay             int32\n",
      "Origin               object\n",
      "Dest                 object\n",
      "Distance             int64\n",
      "Cancelled            bool\n",
      "CancellationCode     category\n",
      "Diverted             bool\n",
      "CarrierDelay         int32\n",
      "WeatherDelay         int32\n",
      "NASDelay             int32\n",
      "SecurityDelay        int32\n",
      "LateAircraftDelay    int32\n",
      "dtypes: bool(2), category(2), int32(10), int64(6), object(7)\n",
      "memory usage: 989.4+ MB\n"
     ]
    }
   ],
   "source": [
    "df.info()"
   ]
  },
  {
   "cell_type": "code",
   "execution_count": 18,
   "metadata": {},
   "outputs": [
    {
     "data": {
      "text/plain": [
       "303"
      ]
     },
     "execution_count": 18,
     "metadata": {},
     "output_type": "execute_result"
    }
   ],
   "source": [
    "df.Origin.nunique()"
   ]
  },
  {
   "cell_type": "code",
   "execution_count": 19,
   "metadata": {},
   "outputs": [
    {
     "data": {
      "text/plain": [
       "304"
      ]
     },
     "execution_count": 19,
     "metadata": {},
     "output_type": "execute_result"
    }
   ],
   "source": [
    "df.Dest.nunique()"
   ]
  },
  {
   "cell_type": "code",
   "execution_count": 14,
   "metadata": {},
   "outputs": [
    {
     "data": {
      "image/png": "[encoded data removed]",
      "text/plain": [
       "<Figure size 720x1080 with 3 Axes>"
      ]
     },
     "metadata": {
      "needs_background": "light"
     },
     "output_type": "display_data"
    }
   ],
   "source": [
    "#Check distribution of flights per Day of week/month and month\n",
    "#Expectation is that the values are aproximately close (with the exception of the 31st day of the month)\n",
    "#Any major deviation will be investigated\n",
    "variables = ['Month','DayofMonth','DayOfWeek']\n",
    "fig,axes = plt.subplots(ncols = 1, nrows = 3, figsize = (10,15))\n",
    "for variable,ax in zip(variables,axes):\n",
    "    sns.countplot(data = df, x = variable,color = 'b', ax = ax);"
   ]
  },
  {
   "cell_type": "code",
   "execution_count": 15,
   "metadata": {},
   "outputs": [
    {
     "data": {
      "image/png": "[encoded data removed]",
      "text/plain": [
       "<Figure size 1296x432 with 1 Axes>"
      ]
     },
     "metadata": {
      "needs_background": "light"
     },
     "output_type": "display_data"
    }
   ],
   "source": [
    "bin_size = 50\n",
    "bins = np.arange(0,df.Distance.max()+bin_size,bin_size)\n",
    "fig,ax = plt.subplots(figsize=(18,6))\n",
    "plt.xticks(bins[::5])\n",
    "plt.yticks(np.arange(0,450000,50000))\n",
    "plt.axvline(x=df.Distance.median(),color = '#B22222')\n",
    "plt.text(df.Distance.median(),450000,'Median',rotation='vertical',color='#B22222')\n",
    "plt.axvline(x=df.Distance.mean(),color = '#8B0000')\n",
    "plt.text(df.Distance.mean(),450000,'Mean',rotation='vertical',color='#8B0000')\n",
    "plt.hist(data=df, x = 'Distance',bins = bins,edgecolor = 'w');"
   ]
  },
  {
   "cell_type": "code",
   "execution_count": 39,
   "metadata": {},
   "outputs": [
    {
     "data": {
      "text/plain": [
       "min      11.0\n",
       "25%     325.0\n",
       "50%     581.0\n",
       "75%     954.0\n",
       "max    4962.0\n",
       "Name: Distance, dtype: float64"
      ]
     },
     "execution_count": 39,
     "metadata": {},
     "output_type": "execute_result"
    }
   ],
   "source": [
    "df.Distance.describe()[-5:]"
   ]
  },
  {
   "cell_type": "code",
   "execution_count": 42,
   "metadata": {},
   "outputs": [
    {
     "data": {
      "text/html": [
       "<div>\n",
       "<style scoped>\n",
       "    .dataframe tbody tr th:only-of-type {\n",
       "        vertical-align: middle;\n",
       "    }\n",
       "\n",
       "    .dataframe tbody tr th {\n",
       "        vertical-align: top;\n",
       "    }\n",
       "\n",
       "    .dataframe thead th {\n",
       "        text-align: right;\n",
       "    }\n",
       "</style>\n",
       "<table border=\"1\" class=\"dataframe\">\n",
       "  <thead>\n",
       "    <tr style=\"text-align: right;\">\n",
       "      <th></th>\n",
       "      <th>Origin</th>\n",
       "      <th>Dest</th>\n",
       "    </tr>\n",
       "  </thead>\n",
       "  <tbody>\n",
       "    <tr>\n",
       "      <th>94778</th>\n",
       "      <td>SAN</td>\n",
       "      <td>ONT</td>\n",
       "    </tr>\n",
       "    <tr>\n",
       "      <th>96148</th>\n",
       "      <td>SAT</td>\n",
       "      <td>AUS</td>\n",
       "    </tr>\n",
       "    <tr>\n",
       "      <th>97290</th>\n",
       "      <td>ONT</td>\n",
       "      <td>SAN</td>\n",
       "    </tr>\n",
       "    <tr>\n",
       "      <th>97321</th>\n",
       "      <td>ONT</td>\n",
       "      <td>SAN</td>\n",
       "    </tr>\n",
       "    <tr>\n",
       "      <th>102740</th>\n",
       "      <td>BPT</td>\n",
       "      <td>IAH</td>\n",
       "    </tr>\n",
       "    <tr>\n",
       "      <th>102861</th>\n",
       "      <td>DTW</td>\n",
       "      <td>CLE</td>\n",
       "    </tr>\n",
       "    <tr>\n",
       "      <th>102980</th>\n",
       "      <td>DTW</td>\n",
       "      <td>CLE</td>\n",
       "    </tr>\n",
       "    <tr>\n",
       "      <th>103018</th>\n",
       "      <td>IAH</td>\n",
       "      <td>BPT</td>\n",
       "    </tr>\n",
       "    <tr>\n",
       "      <th>103417</th>\n",
       "      <td>IAH</td>\n",
       "      <td>BPT</td>\n",
       "    </tr>\n",
       "    <tr>\n",
       "      <th>103441</th>\n",
       "      <td>BPT</td>\n",
       "      <td>IAH</td>\n",
       "    </tr>\n",
       "    <tr>\n",
       "      <th>103473</th>\n",
       "      <td>DTW</td>\n",
       "      <td>CLE</td>\n",
       "    </tr>\n",
       "    <tr>\n",
       "      <th>103634</th>\n",
       "      <td>DTW</td>\n",
       "      <td>CLE</td>\n",
       "    </tr>\n",
       "    <tr>\n",
       "      <th>103697</th>\n",
       "      <td>IAH</td>\n",
       "      <td>BPT</td>\n",
       "    </tr>\n",
       "    <tr>\n",
       "      <th>103863</th>\n",
       "      <td>IAH</td>\n",
       "      <td>BPT</td>\n",
       "    </tr>\n",
       "    <tr>\n",
       "      <th>103954</th>\n",
       "      <td>IAH</td>\n",
       "      <td>CLL</td>\n",
       "    </tr>\n",
       "    <tr>\n",
       "      <th>104025</th>\n",
       "      <td>CLL</td>\n",
       "      <td>IAH</td>\n",
       "    </tr>\n",
       "    <tr>\n",
       "      <th>104441</th>\n",
       "      <td>BPT</td>\n",
       "      <td>IAH</td>\n",
       "    </tr>\n",
       "    <tr>\n",
       "      <th>104655</th>\n",
       "      <td>BPT</td>\n",
       "      <td>IAH</td>\n",
       "    </tr>\n",
       "    <tr>\n",
       "      <th>104722</th>\n",
       "      <td>DTW</td>\n",
       "      <td>CLE</td>\n",
       "    </tr>\n",
       "    <tr>\n",
       "      <th>104799</th>\n",
       "      <td>CLL</td>\n",
       "      <td>IAH</td>\n",
       "    </tr>\n",
       "    <tr>\n",
       "      <th>104868</th>\n",
       "      <td>IAH</td>\n",
       "      <td>BPT</td>\n",
       "    </tr>\n",
       "    <tr>\n",
       "      <th>105201</th>\n",
       "      <td>CLE</td>\n",
       "      <td>DTW</td>\n",
       "    </tr>\n",
       "    <tr>\n",
       "      <th>105324</th>\n",
       "      <td>IAH</td>\n",
       "      <td>BPT</td>\n",
       "    </tr>\n",
       "    <tr>\n",
       "      <th>105434</th>\n",
       "      <td>IAH</td>\n",
       "      <td>BPT</td>\n",
       "    </tr>\n",
       "    <tr>\n",
       "      <th>105650</th>\n",
       "      <td>BPT</td>\n",
       "      <td>IAH</td>\n",
       "    </tr>\n",
       "    <tr>\n",
       "      <th>105813</th>\n",
       "      <td>IAH</td>\n",
       "      <td>BPT</td>\n",
       "    </tr>\n",
       "    <tr>\n",
       "      <th>105888</th>\n",
       "      <td>CLL</td>\n",
       "      <td>IAH</td>\n",
       "    </tr>\n",
       "    <tr>\n",
       "      <th>105987</th>\n",
       "      <td>IAH</td>\n",
       "      <td>BPT</td>\n",
       "    </tr>\n",
       "    <tr>\n",
       "      <th>106093</th>\n",
       "      <td>IAH</td>\n",
       "      <td>CLL</td>\n",
       "    </tr>\n",
       "    <tr>\n",
       "      <th>106170</th>\n",
       "      <td>CLL</td>\n",
       "      <td>IAH</td>\n",
       "    </tr>\n",
       "    <tr>\n",
       "      <th>...</th>\n",
       "      <td>...</td>\n",
       "      <td>...</td>\n",
       "    </tr>\n",
       "    <tr>\n",
       "      <th>6953095</th>\n",
       "      <td>JNU</td>\n",
       "      <td>SIT</td>\n",
       "    </tr>\n",
       "    <tr>\n",
       "      <th>6953181</th>\n",
       "      <td>SIT</td>\n",
       "      <td>JNU</td>\n",
       "    </tr>\n",
       "    <tr>\n",
       "      <th>6953184</th>\n",
       "      <td>JNU</td>\n",
       "      <td>SIT</td>\n",
       "    </tr>\n",
       "    <tr>\n",
       "      <th>6953294</th>\n",
       "      <td>KTN</td>\n",
       "      <td>WRG</td>\n",
       "    </tr>\n",
       "    <tr>\n",
       "      <th>6953301</th>\n",
       "      <td>SIT</td>\n",
       "      <td>JNU</td>\n",
       "    </tr>\n",
       "    <tr>\n",
       "      <th>6953318</th>\n",
       "      <td>WRG</td>\n",
       "      <td>PSG</td>\n",
       "    </tr>\n",
       "    <tr>\n",
       "      <th>6953449</th>\n",
       "      <td>JNU</td>\n",
       "      <td>SIT</td>\n",
       "    </tr>\n",
       "    <tr>\n",
       "      <th>6953470</th>\n",
       "      <td>PSG</td>\n",
       "      <td>WRG</td>\n",
       "    </tr>\n",
       "    <tr>\n",
       "      <th>6953471</th>\n",
       "      <td>WRG</td>\n",
       "      <td>KTN</td>\n",
       "    </tr>\n",
       "    <tr>\n",
       "      <th>6953481</th>\n",
       "      <td>WRG</td>\n",
       "      <td>PSG</td>\n",
       "    </tr>\n",
       "    <tr>\n",
       "      <th>6953579</th>\n",
       "      <td>KTN</td>\n",
       "      <td>WRG</td>\n",
       "    </tr>\n",
       "    <tr>\n",
       "      <th>6953621</th>\n",
       "      <td>JNU</td>\n",
       "      <td>SIT</td>\n",
       "    </tr>\n",
       "    <tr>\n",
       "      <th>6953792</th>\n",
       "      <td>SIT</td>\n",
       "      <td>JNU</td>\n",
       "    </tr>\n",
       "    <tr>\n",
       "      <th>6953803</th>\n",
       "      <td>SIT</td>\n",
       "      <td>JNU</td>\n",
       "    </tr>\n",
       "    <tr>\n",
       "      <th>6953845</th>\n",
       "      <td>JNU</td>\n",
       "      <td>SIT</td>\n",
       "    </tr>\n",
       "    <tr>\n",
       "      <th>6953849</th>\n",
       "      <td>WRG</td>\n",
       "      <td>KTN</td>\n",
       "    </tr>\n",
       "    <tr>\n",
       "      <th>6953850</th>\n",
       "      <td>PSG</td>\n",
       "      <td>WRG</td>\n",
       "    </tr>\n",
       "    <tr>\n",
       "      <th>6953935</th>\n",
       "      <td>SIT</td>\n",
       "      <td>JNU</td>\n",
       "    </tr>\n",
       "    <tr>\n",
       "      <th>6953988</th>\n",
       "      <td>SIT</td>\n",
       "      <td>JNU</td>\n",
       "    </tr>\n",
       "    <tr>\n",
       "      <th>6954162</th>\n",
       "      <td>WRG</td>\n",
       "      <td>KTN</td>\n",
       "    </tr>\n",
       "    <tr>\n",
       "      <th>6954177</th>\n",
       "      <td>WRG</td>\n",
       "      <td>PSG</td>\n",
       "    </tr>\n",
       "    <tr>\n",
       "      <th>6954178</th>\n",
       "      <td>JNU</td>\n",
       "      <td>SIT</td>\n",
       "    </tr>\n",
       "    <tr>\n",
       "      <th>6954188</th>\n",
       "      <td>PSG</td>\n",
       "      <td>WRG</td>\n",
       "    </tr>\n",
       "    <tr>\n",
       "      <th>6954195</th>\n",
       "      <td>JNU</td>\n",
       "      <td>SIT</td>\n",
       "    </tr>\n",
       "    <tr>\n",
       "      <th>6954196</th>\n",
       "      <td>KTN</td>\n",
       "      <td>WRG</td>\n",
       "    </tr>\n",
       "    <tr>\n",
       "      <th>6954292</th>\n",
       "      <td>WRG</td>\n",
       "      <td>PSG</td>\n",
       "    </tr>\n",
       "    <tr>\n",
       "      <th>6954363</th>\n",
       "      <td>KTN</td>\n",
       "      <td>WRG</td>\n",
       "    </tr>\n",
       "    <tr>\n",
       "      <th>6954365</th>\n",
       "      <td>SIT</td>\n",
       "      <td>JNU</td>\n",
       "    </tr>\n",
       "    <tr>\n",
       "      <th>6954389</th>\n",
       "      <td>SIT</td>\n",
       "      <td>JNU</td>\n",
       "    </tr>\n",
       "    <tr>\n",
       "      <th>6954540</th>\n",
       "      <td>JNU</td>\n",
       "      <td>SIT</td>\n",
       "    </tr>\n",
       "  </tbody>\n",
       "</table>\n",
       "<p>98246 rows × 2 columns</p>\n",
       "</div>"
      ],
      "text/plain": [
       "        Origin Dest\n",
       "94778      SAN  ONT\n",
       "96148      SAT  AUS\n",
       "97290      ONT  SAN\n",
       "97321      ONT  SAN\n",
       "102740     BPT  IAH\n",
       "102861     DTW  CLE\n",
       "102980     DTW  CLE\n",
       "103018     IAH  BPT\n",
       "103417     IAH  BPT\n",
       "103441     BPT  IAH\n",
       "103473     DTW  CLE\n",
       "103634     DTW  CLE\n",
       "103697     IAH  BPT\n",
       "103863     IAH  BPT\n",
       "103954     IAH  CLL\n",
       "104025     CLL  IAH\n",
       "104441     BPT  IAH\n",
       "104655     BPT  IAH\n",
       "104722     DTW  CLE\n",
       "104799     CLL  IAH\n",
       "104868     IAH  BPT\n",
       "105201     CLE  DTW\n",
       "105324     IAH  BPT\n",
       "105434     IAH  BPT\n",
       "105650     BPT  IAH\n",
       "105813     IAH  BPT\n",
       "105888     CLL  IAH\n",
       "105987     IAH  BPT\n",
       "106093     IAH  CLL\n",
       "106170     CLL  IAH\n",
       "...        ...  ...\n",
       "6953095    JNU  SIT\n",
       "6953181    SIT  JNU\n",
       "6953184    JNU  SIT\n",
       "6953294    KTN  WRG\n",
       "6953301    SIT  JNU\n",
       "6953318    WRG  PSG\n",
       "6953449    JNU  SIT\n",
       "6953470    PSG  WRG\n",
       "6953471    WRG  KTN\n",
       "6953481    WRG  PSG\n",
       "6953579    KTN  WRG\n",
       "6953621    JNU  SIT\n",
       "6953792    SIT  JNU\n",
       "6953803    SIT  JNU\n",
       "6953845    JNU  SIT\n",
       "6953849    WRG  KTN\n",
       "6953850    PSG  WRG\n",
       "6953935    SIT  JNU\n",
       "6953988    SIT  JNU\n",
       "6954162    WRG  KTN\n",
       "6954177    WRG  PSG\n",
       "6954178    JNU  SIT\n",
       "6954188    PSG  WRG\n",
       "6954195    JNU  SIT\n",
       "6954196    KTN  WRG\n",
       "6954292    WRG  PSG\n",
       "6954363    KTN  WRG\n",
       "6954365    SIT  JNU\n",
       "6954389    SIT  JNU\n",
       "6954540    JNU  SIT\n",
       "\n",
       "[98246 rows x 2 columns]"
      ]
     },
     "execution_count": 42,
     "metadata": {},
     "output_type": "execute_result"
    }
   ],
   "source": [
    "df[df.Distance < 100][['Origin','Dest']]"
   ]
  },
  {
   "cell_type": "markdown",
   "metadata": {},
   "source": [
    "## Cancellations"
   ]
  },
  {
   "cell_type": "code",
   "execution_count": 12,
   "metadata": {},
   "outputs": [],
   "source": [
    "df = pd.read_csv('flights_clean.csv')"
   ]
  },
  {
   "cell_type": "code",
   "execution_count": 25,
   "metadata": {},
   "outputs": [
    {
     "data": {
      "text/html": [
       "<div>\n",
       "<style scoped>\n",
       "    .dataframe tbody tr th:only-of-type {\n",
       "        vertical-align: middle;\n",
       "    }\n",
       "\n",
       "    .dataframe tbody tr th {\n",
       "        vertical-align: top;\n",
       "    }\n",
       "\n",
       "    .dataframe thead th {\n",
       "        text-align: right;\n",
       "    }\n",
       "</style>\n",
       "<table border=\"1\" class=\"dataframe\">\n",
       "  <thead>\n",
       "    <tr style=\"text-align: right;\">\n",
       "      <th></th>\n",
       "      <th>month</th>\n",
       "      <th>dayofmonth</th>\n",
       "      <th>dayofweek</th>\n",
       "      <th>deptime</th>\n",
       "      <th>crsdeptime</th>\n",
       "      <th>uniquecarrier</th>\n",
       "      <th>flightnum</th>\n",
       "      <th>origin</th>\n",
       "      <th>dest</th>\n",
       "      <th>distance</th>\n",
       "      <th>cancelled</th>\n",
       "      <th>cancellationcode</th>\n",
       "    </tr>\n",
       "  </thead>\n",
       "  <tbody>\n",
       "    <tr>\n",
       "      <th>0</th>\n",
       "      <td>1</td>\n",
       "      <td>3</td>\n",
       "      <td>4</td>\n",
       "      <td>20:03:00</td>\n",
       "      <td>19:55:00</td>\n",
       "      <td>WN</td>\n",
       "      <td>335</td>\n",
       "      <td>IAD</td>\n",
       "      <td>TPA</td>\n",
       "      <td>810</td>\n",
       "      <td>False</td>\n",
       "      <td>NaN</td>\n",
       "    </tr>\n",
       "    <tr>\n",
       "      <th>1</th>\n",
       "      <td>1</td>\n",
       "      <td>3</td>\n",
       "      <td>4</td>\n",
       "      <td>07:54:00</td>\n",
       "      <td>07:35:00</td>\n",
       "      <td>WN</td>\n",
       "      <td>3231</td>\n",
       "      <td>IAD</td>\n",
       "      <td>TPA</td>\n",
       "      <td>810</td>\n",
       "      <td>False</td>\n",
       "      <td>NaN</td>\n",
       "    </tr>\n",
       "    <tr>\n",
       "      <th>2</th>\n",
       "      <td>1</td>\n",
       "      <td>3</td>\n",
       "      <td>4</td>\n",
       "      <td>06:28:00</td>\n",
       "      <td>06:20:00</td>\n",
       "      <td>WN</td>\n",
       "      <td>448</td>\n",
       "      <td>IND</td>\n",
       "      <td>BWI</td>\n",
       "      <td>515</td>\n",
       "      <td>False</td>\n",
       "      <td>NaN</td>\n",
       "    </tr>\n",
       "  </tbody>\n",
       "</table>\n",
       "</div>"
      ],
      "text/plain": [
       "   month  dayofmonth  dayofweek   deptime crsdeptime uniquecarrier  flightnum  \\\n",
       "0      1           3          4  20:03:00   19:55:00            WN        335   \n",
       "1      1           3          4  07:54:00   07:35:00            WN       3231   \n",
       "2      1           3          4  06:28:00   06:20:00            WN        448   \n",
       "\n",
       "  origin dest  distance  cancelled cancellationcode  \n",
       "0    IAD  TPA       810      False              NaN  \n",
       "1    IAD  TPA       810      False              NaN  \n",
       "2    IND  BWI       515      False              NaN  "
      ]
     },
     "execution_count": 25,
     "metadata": {},
     "output_type": "execute_result"
    }
   ],
   "source": [
    "dfcancel = df.drop(columns=['arrtime','crsarrtime','airtime', 'arrdelay',\n",
    "       'depdelay','carrierdelay', 'weatherdelay', 'nasdelay',\n",
    "       'securitydelay', 'lateaircraftdelay'])\n",
    "dfcancel.head(3)"
   ]
  },
  {
   "cell_type": "markdown",
   "metadata": {},
   "source": [
    "### Carriers with the highest percentage of cancellations"
   ]
  },
  {
   "cell_type": "code",
   "execution_count": 26,
   "metadata": {},
   "outputs": [
    {
     "data": {
      "image/png": "[encoded data removed]",
      "text/plain": [
       "<Figure size 1296x432 with 1 Axes>"
      ]
     },
     "metadata": {
      "needs_background": "light"
     },
     "output_type": "display_data"
    }
   ],
   "source": [
    "#Get number of cancelled flights per carrier\n",
    "carr_cancel = dfcancel.groupby(['uniquecarrier','cancellationcode']).cancelled.sum().reset_index()\n",
    "\n",
    "#Get number of flights per carrier\n",
    "carr_flights = dfcancel.groupby('uniquecarrier').flightnum.count().reset_index()\n",
    "\n",
    "#Left join the results to compute the cancellation rates\n",
    "df_cancel = pd.merge(carr_cancel,carr_flights,on='uniquecarrier',how = 'left')\n",
    "df_cancel['cancelrate'] = df_cancel.cancelled / df_cancel.flightnum * 100\n",
    "\n",
    "#Determine the order in which to show the carriers in the graph\n",
    "carrier_order = df_cancel.groupby('uniquecarrier').cancelrate.sum().sort_values(ascending=False).index.values\n",
    "\n",
    "#Draw the barplot \n",
    "fig, ax = plt.subplots(figsize=(18,6))\n",
    "sns.barplot(data = df_cancel, x = 'uniquecarrier', y = 'cancelrate', hue = 'cancellationcode', order = carrier_order, ax = ax)\n",
    "#workaround to show the legend with colors otherwise it's all black\n",
    "h, l = ax.get_legend_handles_labels()\n",
    "ax.legend(h, cancel_reason, title = 'Cancellation Code', loc = 'upper right')\n",
    "plt.ylabel('Cancelled Flights (% of total)')\n",
    "plt.xlabel('Carrier');"
   ]
  },
  {
   "cell_type": "markdown",
   "metadata": {},
   "source": [
    "### Carriers with highest rate of cancellation due their own fault"
   ]
  },
  {
   "cell_type": "code",
   "execution_count": 27,
   "metadata": {},
   "outputs": [
    {
     "data": {
      "image/png": "[encoded data removed]",
      "text/plain": [
       "<Figure size 1296x432 with 1 Axes>"
      ]
     },
     "metadata": {
      "needs_background": "light"
     },
     "output_type": "display_data"
    }
   ],
   "source": [
    "#Determine the order in which to show the carriers in the graph\n",
    "carrier_order = df_cancel[df_cancel['cancellationcode']=='A'].groupby('uniquecarrier').cancelrate.sum().sort_values(ascending=False).index.values\n",
    "\n",
    "#Draw the barplot \n",
    "fig, ax = plt.subplots(figsize=(18,6))\n",
    "sns.barplot(data = df_cancel, x = 'uniquecarrier', y = 'cancelrate', hue = 'cancellationcode', order = carrier_order, ax = ax)\n",
    "#workaround to show the legend with colors otherwise it's all black\n",
    "h, l = ax.get_legend_handles_labels()\n",
    "ax.legend(h, cancel_reason, title = 'Cancellation Code', loc = 'upper right')\n",
    "plt.ylabel('Cancelled Flights (% of total)')\n",
    "plt.xlabel('Carrier');"
   ]
  },
  {
   "cell_type": "markdown",
   "metadata": {},
   "source": [
    "### Carriers with highest number of cancellation due their own fault"
   ]
  },
  {
   "cell_type": "code",
   "execution_count": 28,
   "metadata": {},
   "outputs": [
    {
     "data": {
      "image/png": "[encoded data removed]",
      "text/plain": [
       "<Figure size 1296x432 with 1 Axes>"
      ]
     },
     "metadata": {
      "needs_background": "light"
     },
     "output_type": "display_data"
    }
   ],
   "source": [
    "#Determine the order in which to show the carriers in the graph\n",
    "carrier_order = df_cancel[df_cancel['cancellationcode']=='A'].groupby('uniquecarrier').cancelled.sum().sort_values(ascending=False).index.values\n",
    "\n",
    "#Draw the barplot \n",
    "fig, ax = plt.subplots(figsize=(18,6))\n",
    "sns.barplot(data = df_cancel, x = 'uniquecarrier', y = 'cancelled', hue = 'cancellationcode', order = carrier_order, ax = ax)\n",
    "#workaround to show the legend with colors otherwise it's all black\n",
    "h, l = ax.get_legend_handles_labels()\n",
    "ax.legend(h, cancel_reason, title = 'Cancellation Code', loc = 'upper right')\n",
    "plt.ylabel('Cancelled Flights')\n",
    "plt.xlabel('Carrier');"
   ]
  },
  {
   "cell_type": "markdown",
   "metadata": {},
   "source": [
    "### Airports with the highest rate of cancellations"
   ]
  },
  {
   "cell_type": "code",
   "execution_count": 29,
   "metadata": {},
   "outputs": [
    {
     "data": {
      "text/html": [
       "<div>\n",
       "<style scoped>\n",
       "    .dataframe tbody tr th:only-of-type {\n",
       "        vertical-align: middle;\n",
       "    }\n",
       "\n",
       "    .dataframe tbody tr th {\n",
       "        vertical-align: top;\n",
       "    }\n",
       "\n",
       "    .dataframe thead th {\n",
       "        text-align: right;\n",
       "    }\n",
       "</style>\n",
       "<table border=\"1\" class=\"dataframe\">\n",
       "  <thead>\n",
       "    <tr style=\"text-align: right;\">\n",
       "      <th></th>\n",
       "      <th>iata</th>\n",
       "      <th>cancellations</th>\n",
       "      <th>total</th>\n",
       "      <th>cancelrate</th>\n",
       "      <th>airport</th>\n",
       "      <th>city</th>\n",
       "      <th>state</th>\n",
       "      <th>country</th>\n",
       "      <th>lat</th>\n",
       "      <th>long</th>\n",
       "    </tr>\n",
       "  </thead>\n",
       "  <tbody>\n",
       "    <tr>\n",
       "      <th>0</th>\n",
       "      <td>TEX</td>\n",
       "      <td>27.0</td>\n",
       "      <td>194</td>\n",
       "      <td>13.917526</td>\n",
       "      <td>Telluride Regional</td>\n",
       "      <td>Telluride</td>\n",
       "      <td>CO</td>\n",
       "      <td>USA</td>\n",
       "      <td>37.953759</td>\n",
       "      <td>-107.908480</td>\n",
       "    </tr>\n",
       "    <tr>\n",
       "      <th>1</th>\n",
       "      <td>ASE</td>\n",
       "      <td>408.0</td>\n",
       "      <td>5307</td>\n",
       "      <td>7.687959</td>\n",
       "      <td>Aspen-Pitkin Co/Sardy</td>\n",
       "      <td>Aspen</td>\n",
       "      <td>CO</td>\n",
       "      <td>USA</td>\n",
       "      <td>39.223160</td>\n",
       "      <td>-106.868845</td>\n",
       "    </tr>\n",
       "    <tr>\n",
       "      <th>2</th>\n",
       "      <td>SUN</td>\n",
       "      <td>152.0</td>\n",
       "      <td>2871</td>\n",
       "      <td>5.294323</td>\n",
       "      <td>Friedman Memorial</td>\n",
       "      <td>Hailey</td>\n",
       "      <td>ID</td>\n",
       "      <td>USA</td>\n",
       "      <td>43.504841</td>\n",
       "      <td>-114.296590</td>\n",
       "    </tr>\n",
       "    <tr>\n",
       "      <th>3</th>\n",
       "      <td>ADK</td>\n",
       "      <td>5.0</td>\n",
       "      <td>102</td>\n",
       "      <td>4.901961</td>\n",
       "      <td>Adak</td>\n",
       "      <td>Adak</td>\n",
       "      <td>AK</td>\n",
       "      <td>USA</td>\n",
       "      <td>51.877964</td>\n",
       "      <td>-176.646031</td>\n",
       "    </tr>\n",
       "    <tr>\n",
       "      <th>4</th>\n",
       "      <td>ADQ</td>\n",
       "      <td>33.0</td>\n",
       "      <td>706</td>\n",
       "      <td>4.674221</td>\n",
       "      <td>Kodiak</td>\n",
       "      <td>Kodiak</td>\n",
       "      <td>AK</td>\n",
       "      <td>USA</td>\n",
       "      <td>57.749968</td>\n",
       "      <td>-152.493855</td>\n",
       "    </tr>\n",
       "    <tr>\n",
       "      <th>5</th>\n",
       "      <td>ALO</td>\n",
       "      <td>15.0</td>\n",
       "      <td>323</td>\n",
       "      <td>4.643963</td>\n",
       "      <td>Waterloo Municipal</td>\n",
       "      <td>Waterloo</td>\n",
       "      <td>IA</td>\n",
       "      <td>USA</td>\n",
       "      <td>42.557081</td>\n",
       "      <td>-92.400344</td>\n",
       "    </tr>\n",
       "    <tr>\n",
       "      <th>6</th>\n",
       "      <td>ITH</td>\n",
       "      <td>6.0</td>\n",
       "      <td>132</td>\n",
       "      <td>4.545455</td>\n",
       "      <td>Tompkins Cty</td>\n",
       "      <td>Ithaca</td>\n",
       "      <td>NY</td>\n",
       "      <td>USA</td>\n",
       "      <td>42.491028</td>\n",
       "      <td>-76.458444</td>\n",
       "    </tr>\n",
       "    <tr>\n",
       "      <th>7</th>\n",
       "      <td>ACK</td>\n",
       "      <td>20.0</td>\n",
       "      <td>457</td>\n",
       "      <td>4.376368</td>\n",
       "      <td>Nantucket Memorial</td>\n",
       "      <td>Nantucket</td>\n",
       "      <td>MA</td>\n",
       "      <td>USA</td>\n",
       "      <td>41.253052</td>\n",
       "      <td>-70.060181</td>\n",
       "    </tr>\n",
       "    <tr>\n",
       "      <th>8</th>\n",
       "      <td>DBQ</td>\n",
       "      <td>58.0</td>\n",
       "      <td>1349</td>\n",
       "      <td>4.299481</td>\n",
       "      <td>Dubuque Municipal</td>\n",
       "      <td>Dubuque</td>\n",
       "      <td>IA</td>\n",
       "      <td>USA</td>\n",
       "      <td>42.402959</td>\n",
       "      <td>-90.709167</td>\n",
       "    </tr>\n",
       "    <tr>\n",
       "      <th>9</th>\n",
       "      <td>LCH</td>\n",
       "      <td>36.0</td>\n",
       "      <td>1000</td>\n",
       "      <td>3.600000</td>\n",
       "      <td>Lake Charles Regional</td>\n",
       "      <td>Lake Charles</td>\n",
       "      <td>LA</td>\n",
       "      <td>USA</td>\n",
       "      <td>30.126097</td>\n",
       "      <td>-93.223404</td>\n",
       "    </tr>\n",
       "    <tr>\n",
       "      <th>10</th>\n",
       "      <td>GGG</td>\n",
       "      <td>34.0</td>\n",
       "      <td>978</td>\n",
       "      <td>3.476483</td>\n",
       "      <td>Gregg County</td>\n",
       "      <td>Longview</td>\n",
       "      <td>TX</td>\n",
       "      <td>USA</td>\n",
       "      <td>32.384861</td>\n",
       "      <td>-94.711710</td>\n",
       "    </tr>\n",
       "    <tr>\n",
       "      <th>11</th>\n",
       "      <td>CMX</td>\n",
       "      <td>11.0</td>\n",
       "      <td>318</td>\n",
       "      <td>3.459119</td>\n",
       "      <td>Houghton County Memorial</td>\n",
       "      <td>Hancock</td>\n",
       "      <td>MI</td>\n",
       "      <td>USA</td>\n",
       "      <td>47.168417</td>\n",
       "      <td>-88.489061</td>\n",
       "    </tr>\n",
       "    <tr>\n",
       "      <th>12</th>\n",
       "      <td>BRO</td>\n",
       "      <td>48.0</td>\n",
       "      <td>1464</td>\n",
       "      <td>3.278689</td>\n",
       "      <td>Brownsville/S.Padre Island International</td>\n",
       "      <td>Brownsville</td>\n",
       "      <td>TX</td>\n",
       "      <td>USA</td>\n",
       "      <td>25.906833</td>\n",
       "      <td>-97.425861</td>\n",
       "    </tr>\n",
       "    <tr>\n",
       "      <th>13</th>\n",
       "      <td>BPT</td>\n",
       "      <td>9.0</td>\n",
       "      <td>276</td>\n",
       "      <td>3.260870</td>\n",
       "      <td>Southeast Texas Regional</td>\n",
       "      <td>Beaumont/Port Arthur</td>\n",
       "      <td>TX</td>\n",
       "      <td>USA</td>\n",
       "      <td>29.950833</td>\n",
       "      <td>-94.020694</td>\n",
       "    </tr>\n",
       "    <tr>\n",
       "      <th>14</th>\n",
       "      <td>OME</td>\n",
       "      <td>35.0</td>\n",
       "      <td>1090</td>\n",
       "      <td>3.211009</td>\n",
       "      <td>Nome</td>\n",
       "      <td>Nome</td>\n",
       "      <td>AK</td>\n",
       "      <td>USA</td>\n",
       "      <td>64.512202</td>\n",
       "      <td>-165.445246</td>\n",
       "    </tr>\n",
       "    <tr>\n",
       "      <th>15</th>\n",
       "      <td>MQT</td>\n",
       "      <td>30.0</td>\n",
       "      <td>991</td>\n",
       "      <td>3.027245</td>\n",
       "      <td>Marquette County Airport</td>\n",
       "      <td>NaN</td>\n",
       "      <td>NaN</td>\n",
       "      <td>USA</td>\n",
       "      <td>46.353639</td>\n",
       "      <td>-87.395361</td>\n",
       "    </tr>\n",
       "    <tr>\n",
       "      <th>16</th>\n",
       "      <td>TXK</td>\n",
       "      <td>36.0</td>\n",
       "      <td>1250</td>\n",
       "      <td>2.880000</td>\n",
       "      <td>Texarkana Regional-Webb</td>\n",
       "      <td>Texarkana</td>\n",
       "      <td>AR</td>\n",
       "      <td>USA</td>\n",
       "      <td>33.453708</td>\n",
       "      <td>-93.991020</td>\n",
       "    </tr>\n",
       "    <tr>\n",
       "      <th>17</th>\n",
       "      <td>RST</td>\n",
       "      <td>94.0</td>\n",
       "      <td>3353</td>\n",
       "      <td>2.803460</td>\n",
       "      <td>Rochester International</td>\n",
       "      <td>Rochester</td>\n",
       "      <td>MN</td>\n",
       "      <td>USA</td>\n",
       "      <td>43.908826</td>\n",
       "      <td>-92.497987</td>\n",
       "    </tr>\n",
       "    <tr>\n",
       "      <th>18</th>\n",
       "      <td>LFT</td>\n",
       "      <td>133.0</td>\n",
       "      <td>4879</td>\n",
       "      <td>2.725968</td>\n",
       "      <td>Lafayette Regional</td>\n",
       "      <td>Lafayette</td>\n",
       "      <td>LA</td>\n",
       "      <td>USA</td>\n",
       "      <td>30.205280</td>\n",
       "      <td>-91.987655</td>\n",
       "    </tr>\n",
       "    <tr>\n",
       "      <th>19</th>\n",
       "      <td>OTH</td>\n",
       "      <td>14.0</td>\n",
       "      <td>515</td>\n",
       "      <td>2.718447</td>\n",
       "      <td>North Bend Muni</td>\n",
       "      <td>North Bend</td>\n",
       "      <td>OR</td>\n",
       "      <td>USA</td>\n",
       "      <td>43.417139</td>\n",
       "      <td>-124.246028</td>\n",
       "    </tr>\n",
       "  </tbody>\n",
       "</table>\n",
       "</div>"
      ],
      "text/plain": [
       "   iata  cancellations  total  cancelrate  \\\n",
       "0   TEX           27.0    194   13.917526   \n",
       "1   ASE          408.0   5307    7.687959   \n",
       "2   SUN          152.0   2871    5.294323   \n",
       "3   ADK            5.0    102    4.901961   \n",
       "4   ADQ           33.0    706    4.674221   \n",
       "5   ALO           15.0    323    4.643963   \n",
       "6   ITH            6.0    132    4.545455   \n",
       "7   ACK           20.0    457    4.376368   \n",
       "8   DBQ           58.0   1349    4.299481   \n",
       "9   LCH           36.0   1000    3.600000   \n",
       "10  GGG           34.0    978    3.476483   \n",
       "11  CMX           11.0    318    3.459119   \n",
       "12  BRO           48.0   1464    3.278689   \n",
       "13  BPT            9.0    276    3.260870   \n",
       "14  OME           35.0   1090    3.211009   \n",
       "15  MQT           30.0    991    3.027245   \n",
       "16  TXK           36.0   1250    2.880000   \n",
       "17  RST           94.0   3353    2.803460   \n",
       "18  LFT          133.0   4879    2.725968   \n",
       "19  OTH           14.0    515    2.718447   \n",
       "\n",
       "                                     airport                  city state  \\\n",
       "0                         Telluride Regional             Telluride    CO   \n",
       "1                     Aspen-Pitkin Co/Sardy                  Aspen    CO   \n",
       "2                          Friedman Memorial                Hailey    ID   \n",
       "3                                       Adak                  Adak    AK   \n",
       "4                                    Kodiak                 Kodiak    AK   \n",
       "5                         Waterloo Municipal              Waterloo    IA   \n",
       "6                              Tompkins Cty                 Ithaca    NY   \n",
       "7                         Nantucket Memorial             Nantucket    MA   \n",
       "8                          Dubuque Municipal               Dubuque    IA   \n",
       "9                      Lake Charles Regional          Lake Charles    LA   \n",
       "10                              Gregg County              Longview    TX   \n",
       "11                  Houghton County Memorial               Hancock    MI   \n",
       "12  Brownsville/S.Padre Island International           Brownsville    TX   \n",
       "13                  Southeast Texas Regional  Beaumont/Port Arthur    TX   \n",
       "14                                      Nome                  Nome    AK   \n",
       "15                  Marquette County Airport                   NaN   NaN   \n",
       "16                  Texarkana Regional-Webb              Texarkana    AR   \n",
       "17                   Rochester International             Rochester    MN   \n",
       "18                        Lafayette Regional             Lafayette    LA   \n",
       "19                           North Bend Muni            North Bend    OR   \n",
       "\n",
       "   country        lat        long  \n",
       "0      USA  37.953759 -107.908480  \n",
       "1      USA  39.223160 -106.868845  \n",
       "2      USA  43.504841 -114.296590  \n",
       "3      USA  51.877964 -176.646031  \n",
       "4      USA  57.749968 -152.493855  \n",
       "5      USA  42.557081  -92.400344  \n",
       "6      USA  42.491028  -76.458444  \n",
       "7      USA  41.253052  -70.060181  \n",
       "8      USA  42.402959  -90.709167  \n",
       "9      USA  30.126097  -93.223404  \n",
       "10     USA  32.384861  -94.711710  \n",
       "11     USA  47.168417  -88.489061  \n",
       "12     USA  25.906833  -97.425861  \n",
       "13     USA  29.950833  -94.020694  \n",
       "14     USA  64.512202 -165.445246  \n",
       "15     USA  46.353639  -87.395361  \n",
       "16     USA  33.453708  -93.991020  \n",
       "17     USA  43.908826  -92.497987  \n",
       "18     USA  30.205280  -91.987655  \n",
       "19     USA  43.417139 -124.246028  "
      ]
     },
     "execution_count": 29,
     "metadata": {},
     "output_type": "execute_result"
    }
   ],
   "source": [
    "df_cancel_origin = pd.concat(\n",
    "    [df[df.cancellationcode == 'B'].groupby(['origin']).origin.count(),\n",
    "     df.groupby(['origin']).origin.count()],\n",
    "    axis = 1, sort = True)\n",
    "df_cancel_origin.columns = ['cancellations','total']\n",
    "df_cancel_origin.cancellations.fillna(0)\n",
    "df_cancel_origin['cancelrate'] = df_cancel_origin.cancellations / df_cancel_origin.total * 100\n",
    "df_cancel_origin.sort_values(by='cancelrate',ascending=False,inplace=True)\n",
    "df_cancel_origin.reset_index(inplace=True)\n",
    "df_cancel_origin.rename(index=str, columns={'index':'iata'},inplace=True)\n",
    "df_cancel_origin = pd.merge(df_cancel_origin,airports_df,on='iata',how='left')\n",
    "df_cancel_origin.head(20)"
   ]
  },
  {
   "cell_type": "code",
   "execution_count": 30,
   "metadata": {
    "scrolled": true
   },
   "outputs": [
    {
     "data": {
      "application/vnd.jupyter.widget-view+json": {
       "model_id": "dc399ad8a35644eb9acf64547a7c8709",
       "version_major": 2,
       "version_minor": 0
      },
      "text/plain": [
       "interactive(children=(IntSlider(value=150, description='Selected_Airports', max=303, min=5, step=5), Dropdown(…"
      ]
     },
     "metadata": {},
     "output_type": "display_data"
    }
   ],
   "source": [
    "@interact_manual\n",
    "\n",
    "def show_map (Selected_Airports = (5,df_cancel_origin.iata.nunique(),5),\n",
    "             Aggregation_Criteria = ['Number_of_Cancellations','Cancellation_Rate']):\n",
    "    criteria = 'cancelrate'\n",
    "    multiplier = 10000\n",
    "    if Aggregation_Criteria == 'Number_of_Cancellations':\n",
    "        criteria = 'cancellations'\n",
    "        multiplier = 25\n",
    "    df_cancel_origin.sort_values(by=criteria,ascending=False,inplace=True)\n",
    "    df_cancel_origin.reset_index(drop=True,inplace=True)\n",
    "    m = folium.Map(location=[35,-92], tiles = 'Mapbox Bright', zoom_start=4)\n",
    "    for i in range(0,Selected_Airports):\n",
    "        popup_text = df_cancel_origin.airport[i]+': '+str(df_cancel_origin[criteria][i])\n",
    "        popup = folium.Popup(popup_text,parse_html=True)\n",
    "        folium.Circle(\n",
    "            location = [df_cancel_origin.iloc[i]['lat'],df_cancel_origin.iloc[i]['long']],\n",
    "            radius = df_cancel_origin.iloc[i][criteria]*multiplier,\n",
    "            color = 'crimson',\n",
    "            weight = 1,\n",
    "            opacity = 0.5,\n",
    "            fill= True,\n",
    "            fill_color = 'crimson',\n",
    "            popup=popup).add_to(m)\n",
    "    display(m)"
   ]
  },
  {
   "cell_type": "code",
   "execution_count": 31,
   "metadata": {},
   "outputs": [
    {
     "data": {
      "text/plain": [
       "<matplotlib.axes._subplots.AxesSubplot at 0xe57fb62a58>"
      ]
     },
     "execution_count": 31,
     "metadata": {},
     "output_type": "execute_result"
    },
    {
     "data": {
      "image/png": "[encoded data removed]",
      "text/plain": [
       "<Figure size 1296x432 with 1 Axes>"
      ]
     },
     "metadata": {
      "needs_background": "light"
     },
     "output_type": "display_data"
    }
   ],
   "source": [
    "fig, ax = plt.subplots(figsize=(18,6))\n",
    "values_cancel = dfcancel[dfcancel.cancelled].groupby('month').sum().cancelled.values\n",
    "values_total = dfcancel.groupby('month').count().flightnum.values\n",
    "labels = [x+1 for x in list(range(12))]\n",
    "sns.set_color_codes('pastel')\n",
    "sns.barplot(y=values_cancel/values_total,x=labels,ax=ax,label='Total',color='b')\n",
    "#sns.barplot(y=values_total,x=labels,ax=ax,label='Total',color='b')\n",
    "#sns.set_color_codes(\"muted\")\n",
    "#sns.barplot(y=values_cancel,x=labels, ax = ax,label='Cancelled',color='b');"
   ]
  },
  {
   "cell_type": "code",
   "execution_count": 58,
   "metadata": {},
   "outputs": [
    {
     "data": {
      "text/html": [
       "<div>\n",
       "<style scoped>\n",
       "    .dataframe tbody tr th:only-of-type {\n",
       "        vertical-align: middle;\n",
       "    }\n",
       "\n",
       "    .dataframe tbody tr th {\n",
       "        vertical-align: top;\n",
       "    }\n",
       "\n",
       "    .dataframe thead th {\n",
       "        text-align: right;\n",
       "    }\n",
       "</style>\n",
       "<table border=\"1\" class=\"dataframe\">\n",
       "  <thead>\n",
       "    <tr style=\"text-align: right;\">\n",
       "      <th></th>\n",
       "      <th>month</th>\n",
       "      <th>dayofmonth</th>\n",
       "      <th>dayofweek</th>\n",
       "      <th>deptime</th>\n",
       "      <th>crsdeptime</th>\n",
       "      <th>uniquecarrier</th>\n",
       "      <th>flightnum</th>\n",
       "      <th>origin</th>\n",
       "      <th>dest</th>\n",
       "      <th>distance</th>\n",
       "      <th>cancelled</th>\n",
       "      <th>cancellationcode</th>\n",
       "    </tr>\n",
       "  </thead>\n",
       "  <tbody>\n",
       "    <tr>\n",
       "      <th>0</th>\n",
       "      <td>1</td>\n",
       "      <td>3</td>\n",
       "      <td>4</td>\n",
       "      <td>20:03:00</td>\n",
       "      <td>19:55:00</td>\n",
       "      <td>WN</td>\n",
       "      <td>335</td>\n",
       "      <td>IAD</td>\n",
       "      <td>TPA</td>\n",
       "      <td>810</td>\n",
       "      <td>False</td>\n",
       "      <td>NaN</td>\n",
       "    </tr>\n",
       "    <tr>\n",
       "      <th>1</th>\n",
       "      <td>1</td>\n",
       "      <td>3</td>\n",
       "      <td>4</td>\n",
       "      <td>07:54:00</td>\n",
       "      <td>07:35:00</td>\n",
       "      <td>WN</td>\n",
       "      <td>3231</td>\n",
       "      <td>IAD</td>\n",
       "      <td>TPA</td>\n",
       "      <td>810</td>\n",
       "      <td>False</td>\n",
       "      <td>NaN</td>\n",
       "    </tr>\n",
       "  </tbody>\n",
       "</table>\n",
       "</div>"
      ],
      "text/plain": [
       "   month  dayofmonth  dayofweek   deptime crsdeptime uniquecarrier  flightnum  \\\n",
       "0      1           3          4  20:03:00   19:55:00            WN        335   \n",
       "1      1           3          4  07:54:00   07:35:00            WN       3231   \n",
       "\n",
       "  origin dest  distance  cancelled cancellationcode  \n",
       "0    IAD  TPA       810      False              NaN  \n",
       "1    IAD  TPA       810      False              NaN  "
      ]
     },
     "execution_count": 58,
     "metadata": {},
     "output_type": "execute_result"
    }
   ],
   "source": [
    "dfcancel.head(2)"
   ]
  },
  {
   "cell_type": "code",
   "execution_count": 64,
   "metadata": {},
   "outputs": [],
   "source": [
    "dfcancel['hourofday'] = [x.hour for x in dfcancel.deptime]\n",
    "bins = [0,6,12,18,24]\n",
    "labels = ['night','morning','afternoon','evening']\n",
    "dfcancel['daystage'] = pd.cut(dfcancel.hourofday,bins,labels=labels)"
   ]
  },
  {
   "cell_type": "code",
   "execution_count": 68,
   "metadata": {},
   "outputs": [
    {
     "data": {
      "text/html": [
       "<div>\n",
       "<style scoped>\n",
       "    .dataframe tbody tr th:only-of-type {\n",
       "        vertical-align: middle;\n",
       "    }\n",
       "\n",
       "    .dataframe tbody tr th {\n",
       "        vertical-align: top;\n",
       "    }\n",
       "\n",
       "    .dataframe thead th {\n",
       "        text-align: right;\n",
       "    }\n",
       "</style>\n",
       "<table border=\"1\" class=\"dataframe\">\n",
       "  <thead>\n",
       "    <tr style=\"text-align: right;\">\n",
       "      <th></th>\n",
       "      <th>month</th>\n",
       "      <th>dayofmonth</th>\n",
       "      <th>dayofweek</th>\n",
       "      <th>deptime</th>\n",
       "      <th>crsdeptime</th>\n",
       "      <th>uniquecarrier</th>\n",
       "      <th>flightnum</th>\n",
       "      <th>origin</th>\n",
       "      <th>dest</th>\n",
       "      <th>distance</th>\n",
       "      <th>cancelled</th>\n",
       "      <th>cancellationcode</th>\n",
       "      <th>hourofday</th>\n",
       "      <th>daystage</th>\n",
       "    </tr>\n",
       "  </thead>\n",
       "  <tbody>\n",
       "    <tr>\n",
       "      <th>0</th>\n",
       "      <td>1</td>\n",
       "      <td>3</td>\n",
       "      <td>4</td>\n",
       "      <td>20:03:00</td>\n",
       "      <td>19:55:00</td>\n",
       "      <td>WN</td>\n",
       "      <td>335</td>\n",
       "      <td>IAD</td>\n",
       "      <td>TPA</td>\n",
       "      <td>810</td>\n",
       "      <td>False</td>\n",
       "      <td>NaN</td>\n",
       "      <td>20</td>\n",
       "      <td>evening</td>\n",
       "    </tr>\n",
       "    <tr>\n",
       "      <th>1</th>\n",
       "      <td>1</td>\n",
       "      <td>3</td>\n",
       "      <td>4</td>\n",
       "      <td>07:54:00</td>\n",
       "      <td>07:35:00</td>\n",
       "      <td>WN</td>\n",
       "      <td>3231</td>\n",
       "      <td>IAD</td>\n",
       "      <td>TPA</td>\n",
       "      <td>810</td>\n",
       "      <td>False</td>\n",
       "      <td>NaN</td>\n",
       "      <td>7</td>\n",
       "      <td>morning</td>\n",
       "    </tr>\n",
       "    <tr>\n",
       "      <th>2</th>\n",
       "      <td>1</td>\n",
       "      <td>3</td>\n",
       "      <td>4</td>\n",
       "      <td>06:28:00</td>\n",
       "      <td>06:20:00</td>\n",
       "      <td>WN</td>\n",
       "      <td>448</td>\n",
       "      <td>IND</td>\n",
       "      <td>BWI</td>\n",
       "      <td>515</td>\n",
       "      <td>False</td>\n",
       "      <td>NaN</td>\n",
       "      <td>6</td>\n",
       "      <td>night</td>\n",
       "    </tr>\n",
       "    <tr>\n",
       "      <th>3</th>\n",
       "      <td>1</td>\n",
       "      <td>3</td>\n",
       "      <td>4</td>\n",
       "      <td>09:26:00</td>\n",
       "      <td>09:30:00</td>\n",
       "      <td>WN</td>\n",
       "      <td>1746</td>\n",
       "      <td>IND</td>\n",
       "      <td>BWI</td>\n",
       "      <td>515</td>\n",
       "      <td>False</td>\n",
       "      <td>NaN</td>\n",
       "      <td>9</td>\n",
       "      <td>morning</td>\n",
       "    </tr>\n",
       "    <tr>\n",
       "      <th>4</th>\n",
       "      <td>1</td>\n",
       "      <td>3</td>\n",
       "      <td>4</td>\n",
       "      <td>18:29:00</td>\n",
       "      <td>17:55:00</td>\n",
       "      <td>WN</td>\n",
       "      <td>3920</td>\n",
       "      <td>IND</td>\n",
       "      <td>BWI</td>\n",
       "      <td>515</td>\n",
       "      <td>False</td>\n",
       "      <td>NaN</td>\n",
       "      <td>18</td>\n",
       "      <td>afternoon</td>\n",
       "    </tr>\n",
       "    <tr>\n",
       "      <th>5</th>\n",
       "      <td>1</td>\n",
       "      <td>3</td>\n",
       "      <td>4</td>\n",
       "      <td>19:40:00</td>\n",
       "      <td>19:15:00</td>\n",
       "      <td>WN</td>\n",
       "      <td>378</td>\n",
       "      <td>IND</td>\n",
       "      <td>JAX</td>\n",
       "      <td>688</td>\n",
       "      <td>False</td>\n",
       "      <td>NaN</td>\n",
       "      <td>19</td>\n",
       "      <td>evening</td>\n",
       "    </tr>\n",
       "    <tr>\n",
       "      <th>6</th>\n",
       "      <td>1</td>\n",
       "      <td>3</td>\n",
       "      <td>4</td>\n",
       "      <td>19:37:00</td>\n",
       "      <td>18:30:00</td>\n",
       "      <td>WN</td>\n",
       "      <td>509</td>\n",
       "      <td>IND</td>\n",
       "      <td>LAS</td>\n",
       "      <td>1591</td>\n",
       "      <td>False</td>\n",
       "      <td>NaN</td>\n",
       "      <td>19</td>\n",
       "      <td>evening</td>\n",
       "    </tr>\n",
       "    <tr>\n",
       "      <th>7</th>\n",
       "      <td>1</td>\n",
       "      <td>3</td>\n",
       "      <td>4</td>\n",
       "      <td>10:39:00</td>\n",
       "      <td>10:40:00</td>\n",
       "      <td>WN</td>\n",
       "      <td>535</td>\n",
       "      <td>IND</td>\n",
       "      <td>LAS</td>\n",
       "      <td>1591</td>\n",
       "      <td>False</td>\n",
       "      <td>NaN</td>\n",
       "      <td>10</td>\n",
       "      <td>morning</td>\n",
       "    </tr>\n",
       "    <tr>\n",
       "      <th>8</th>\n",
       "      <td>1</td>\n",
       "      <td>3</td>\n",
       "      <td>4</td>\n",
       "      <td>06:17:00</td>\n",
       "      <td>06:15:00</td>\n",
       "      <td>WN</td>\n",
       "      <td>11</td>\n",
       "      <td>IND</td>\n",
       "      <td>MCI</td>\n",
       "      <td>451</td>\n",
       "      <td>False</td>\n",
       "      <td>NaN</td>\n",
       "      <td>6</td>\n",
       "      <td>night</td>\n",
       "    </tr>\n",
       "    <tr>\n",
       "      <th>9</th>\n",
       "      <td>1</td>\n",
       "      <td>3</td>\n",
       "      <td>4</td>\n",
       "      <td>16:20:00</td>\n",
       "      <td>16:20:00</td>\n",
       "      <td>WN</td>\n",
       "      <td>810</td>\n",
       "      <td>IND</td>\n",
       "      <td>MCI</td>\n",
       "      <td>451</td>\n",
       "      <td>False</td>\n",
       "      <td>NaN</td>\n",
       "      <td>16</td>\n",
       "      <td>afternoon</td>\n",
       "    </tr>\n",
       "  </tbody>\n",
       "</table>\n",
       "</div>"
      ],
      "text/plain": [
       "   month  dayofmonth  dayofweek   deptime crsdeptime uniquecarrier  flightnum  \\\n",
       "0      1           3          4  20:03:00   19:55:00            WN        335   \n",
       "1      1           3          4  07:54:00   07:35:00            WN       3231   \n",
       "2      1           3          4  06:28:00   06:20:00            WN        448   \n",
       "3      1           3          4  09:26:00   09:30:00            WN       1746   \n",
       "4      1           3          4  18:29:00   17:55:00            WN       3920   \n",
       "5      1           3          4  19:40:00   19:15:00            WN        378   \n",
       "6      1           3          4  19:37:00   18:30:00            WN        509   \n",
       "7      1           3          4  10:39:00   10:40:00            WN        535   \n",
       "8      1           3          4  06:17:00   06:15:00            WN         11   \n",
       "9      1           3          4  16:20:00   16:20:00            WN        810   \n",
       "\n",
       "  origin dest  distance  cancelled cancellationcode  hourofday   daystage  \n",
       "0    IAD  TPA       810      False              NaN         20    evening  \n",
       "1    IAD  TPA       810      False              NaN          7    morning  \n",
       "2    IND  BWI       515      False              NaN          6      night  \n",
       "3    IND  BWI       515      False              NaN          9    morning  \n",
       "4    IND  BWI       515      False              NaN         18  afternoon  \n",
       "5    IND  JAX       688      False              NaN         19    evening  \n",
       "6    IND  LAS      1591      False              NaN         19    evening  \n",
       "7    IND  LAS      1591      False              NaN         10    morning  \n",
       "8    IND  MCI       451      False              NaN          6      night  \n",
       "9    IND  MCI       451      False              NaN         16  afternoon  "
      ]
     },
     "execution_count": 68,
     "metadata": {},
     "output_type": "execute_result"
    }
   ],
   "source": [
    "dfcancel.head(10)"
   ]
  },
  {
   "cell_type": "markdown",
   "metadata": {},
   "source": [
    "## Delays"
   ]
  },
  {
   "cell_type": "code",
   "execution_count": 39,
   "metadata": {},
   "outputs": [
    {
     "data": {
      "text/html": [
       "<div>\n",
       "<style scoped>\n",
       "    .dataframe tbody tr th:only-of-type {\n",
       "        vertical-align: middle;\n",
       "    }\n",
       "\n",
       "    .dataframe tbody tr th {\n",
       "        vertical-align: top;\n",
       "    }\n",
       "\n",
       "    .dataframe thead th {\n",
       "        text-align: right;\n",
       "    }\n",
       "</style>\n",
       "<table border=\"1\" class=\"dataframe\">\n",
       "  <thead>\n",
       "    <tr style=\"text-align: right;\">\n",
       "      <th></th>\n",
       "      <th>month</th>\n",
       "      <th>dayofmonth</th>\n",
       "      <th>dayofweek</th>\n",
       "      <th>deptime</th>\n",
       "      <th>arrtime</th>\n",
       "      <th>uniquecarrier</th>\n",
       "      <th>flightnum</th>\n",
       "      <th>airtime</th>\n",
       "      <th>arrdelay</th>\n",
       "      <th>depdelay</th>\n",
       "      <th>origin</th>\n",
       "      <th>dest</th>\n",
       "      <th>distance</th>\n",
       "      <th>carrierdelay</th>\n",
       "      <th>weatherdelay</th>\n",
       "      <th>nasdelay</th>\n",
       "      <th>securitydelay</th>\n",
       "      <th>lateaircraftdelay</th>\n",
       "    </tr>\n",
       "  </thead>\n",
       "  <tbody>\n",
       "    <tr>\n",
       "      <th>0</th>\n",
       "      <td>1</td>\n",
       "      <td>3</td>\n",
       "      <td>4</td>\n",
       "      <td>20:03:00</td>\n",
       "      <td>22:11:00</td>\n",
       "      <td>WN</td>\n",
       "      <td>335</td>\n",
       "      <td>116</td>\n",
       "      <td>-14</td>\n",
       "      <td>8</td>\n",
       "      <td>IAD</td>\n",
       "      <td>TPA</td>\n",
       "      <td>810</td>\n",
       "      <td>0</td>\n",
       "      <td>0</td>\n",
       "      <td>0</td>\n",
       "      <td>0</td>\n",
       "      <td>0</td>\n",
       "    </tr>\n",
       "    <tr>\n",
       "      <th>1</th>\n",
       "      <td>1</td>\n",
       "      <td>3</td>\n",
       "      <td>4</td>\n",
       "      <td>07:54:00</td>\n",
       "      <td>10:02:00</td>\n",
       "      <td>WN</td>\n",
       "      <td>3231</td>\n",
       "      <td>113</td>\n",
       "      <td>2</td>\n",
       "      <td>19</td>\n",
       "      <td>IAD</td>\n",
       "      <td>TPA</td>\n",
       "      <td>810</td>\n",
       "      <td>0</td>\n",
       "      <td>0</td>\n",
       "      <td>0</td>\n",
       "      <td>0</td>\n",
       "      <td>0</td>\n",
       "    </tr>\n",
       "    <tr>\n",
       "      <th>2</th>\n",
       "      <td>1</td>\n",
       "      <td>3</td>\n",
       "      <td>4</td>\n",
       "      <td>06:28:00</td>\n",
       "      <td>08:04:00</td>\n",
       "      <td>WN</td>\n",
       "      <td>448</td>\n",
       "      <td>76</td>\n",
       "      <td>14</td>\n",
       "      <td>8</td>\n",
       "      <td>IND</td>\n",
       "      <td>BWI</td>\n",
       "      <td>515</td>\n",
       "      <td>0</td>\n",
       "      <td>0</td>\n",
       "      <td>0</td>\n",
       "      <td>0</td>\n",
       "      <td>0</td>\n",
       "    </tr>\n",
       "    <tr>\n",
       "      <th>3</th>\n",
       "      <td>1</td>\n",
       "      <td>3</td>\n",
       "      <td>4</td>\n",
       "      <td>09:26:00</td>\n",
       "      <td>10:54:00</td>\n",
       "      <td>WN</td>\n",
       "      <td>1746</td>\n",
       "      <td>78</td>\n",
       "      <td>-6</td>\n",
       "      <td>-4</td>\n",
       "      <td>IND</td>\n",
       "      <td>BWI</td>\n",
       "      <td>515</td>\n",
       "      <td>0</td>\n",
       "      <td>0</td>\n",
       "      <td>0</td>\n",
       "      <td>0</td>\n",
       "      <td>0</td>\n",
       "    </tr>\n",
       "    <tr>\n",
       "      <th>4</th>\n",
       "      <td>1</td>\n",
       "      <td>3</td>\n",
       "      <td>4</td>\n",
       "      <td>18:29:00</td>\n",
       "      <td>19:59:00</td>\n",
       "      <td>WN</td>\n",
       "      <td>3920</td>\n",
       "      <td>77</td>\n",
       "      <td>34</td>\n",
       "      <td>34</td>\n",
       "      <td>IND</td>\n",
       "      <td>BWI</td>\n",
       "      <td>515</td>\n",
       "      <td>2</td>\n",
       "      <td>0</td>\n",
       "      <td>0</td>\n",
       "      <td>0</td>\n",
       "      <td>32</td>\n",
       "    </tr>\n",
       "  </tbody>\n",
       "</table>\n",
       "</div>"
      ],
      "text/plain": [
       "   month  dayofmonth  dayofweek   deptime   arrtime uniquecarrier  flightnum  \\\n",
       "0      1           3          4  20:03:00  22:11:00            WN        335   \n",
       "1      1           3          4  07:54:00  10:02:00            WN       3231   \n",
       "2      1           3          4  06:28:00  08:04:00            WN        448   \n",
       "3      1           3          4  09:26:00  10:54:00            WN       1746   \n",
       "4      1           3          4  18:29:00  19:59:00            WN       3920   \n",
       "\n",
       "   airtime  arrdelay  depdelay origin dest  distance  carrierdelay  \\\n",
       "0      116       -14         8    IAD  TPA       810             0   \n",
       "1      113         2        19    IAD  TPA       810             0   \n",
       "2       76        14         8    IND  BWI       515             0   \n",
       "3       78        -6        -4    IND  BWI       515             0   \n",
       "4       77        34        34    IND  BWI       515             2   \n",
       "\n",
       "   weatherdelay  nasdelay  securitydelay  lateaircraftdelay  \n",
       "0             0         0              0                  0  \n",
       "1             0         0              0                  0  \n",
       "2             0         0              0                  0  \n",
       "3             0         0              0                  0  \n",
       "4             0         0              0                 32  "
      ]
     },
     "execution_count": 39,
     "metadata": {},
     "output_type": "execute_result"
    }
   ],
   "source": [
    "df.head(5)"
   ]
  },
  {
   "cell_type": "code",
   "execution_count": 33,
   "metadata": {},
   "outputs": [
    {
     "data": {
      "text/plain": [
       "Index(['month', 'dayofmonth', 'dayofweek', 'deptime', 'crsdeptime', 'arrtime',\n",
       "       'crsarrtime', 'uniquecarrier', 'flightnum', 'airtime', 'arrdelay',\n",
       "       'depdelay', 'origin', 'dest', 'distance', 'cancelled',\n",
       "       'cancellationcode', 'carrierdelay', 'weatherdelay', 'nasdelay',\n",
       "       'securitydelay', 'lateaircraftdelay'],\n",
       "      dtype='object')"
      ]
     },
     "execution_count": 33,
     "metadata": {},
     "output_type": "execute_result"
    }
   ],
   "source": [
    "df.columns"
   ]
  },
  {
   "cell_type": "code",
   "execution_count": 36,
   "metadata": {},
   "outputs": [
    {
     "ename": "KeyError",
     "evalue": "\"['cancelled' 'cancellationcode'] not found in axis\"",
     "output_type": "error",
     "traceback": [
      "\u001b[1;31m---------------------------------------------------------------------------\u001b[0m",
      "\u001b[1;31mKeyError\u001b[0m                                  Traceback (most recent call last)",
      "\u001b[1;32m<ipython-input-36-ca1cdd4489d1>\u001b[0m in \u001b[0;36m<module>\u001b[1;34m\u001b[0m\n\u001b[1;32m----> 1\u001b[1;33m \u001b[0mdfdelay\u001b[0m \u001b[1;33m=\u001b[0m \u001b[0mdf\u001b[0m\u001b[1;33m.\u001b[0m\u001b[0mdrop\u001b[0m\u001b[1;33m(\u001b[0m\u001b[0mcolumns\u001b[0m\u001b[1;33m=\u001b[0m\u001b[1;33m[\u001b[0m\u001b[1;34m'cancelled'\u001b[0m\u001b[1;33m,\u001b[0m\u001b[1;34m'cancellationcode'\u001b[0m\u001b[1;33m,\u001b[0m\u001b[1;34m'crsdeptime'\u001b[0m\u001b[1;33m,\u001b[0m\u001b[1;34m'crsarrtime'\u001b[0m\u001b[1;33m]\u001b[0m\u001b[1;33m,\u001b[0m \u001b[0minplace\u001b[0m\u001b[1;33m=\u001b[0m\u001b[1;32mTrue\u001b[0m\u001b[1;33m)\u001b[0m\u001b[1;33m\u001b[0m\u001b[1;33m\u001b[0m\u001b[0m\n\u001b[0m",
      "\u001b[1;32mC:\\ProgramData\\Anaconda3\\lib\\site-packages\\pandas\\core\\frame.py\u001b[0m in \u001b[0;36mdrop\u001b[1;34m(self, labels, axis, index, columns, level, inplace, errors)\u001b[0m\n\u001b[0;32m   3938\u001b[0m                                            \u001b[0mindex\u001b[0m\u001b[1;33m=\u001b[0m\u001b[0mindex\u001b[0m\u001b[1;33m,\u001b[0m \u001b[0mcolumns\u001b[0m\u001b[1;33m=\u001b[0m\u001b[0mcolumns\u001b[0m\u001b[1;33m,\u001b[0m\u001b[1;33m\u001b[0m\u001b[1;33m\u001b[0m\u001b[0m\n\u001b[0;32m   3939\u001b[0m                                            \u001b[0mlevel\u001b[0m\u001b[1;33m=\u001b[0m\u001b[0mlevel\u001b[0m\u001b[1;33m,\u001b[0m \u001b[0minplace\u001b[0m\u001b[1;33m=\u001b[0m\u001b[0minplace\u001b[0m\u001b[1;33m,\u001b[0m\u001b[1;33m\u001b[0m\u001b[1;33m\u001b[0m\u001b[0m\n\u001b[1;32m-> 3940\u001b[1;33m                                            errors=errors)\n\u001b[0m\u001b[0;32m   3941\u001b[0m \u001b[1;33m\u001b[0m\u001b[0m\n\u001b[0;32m   3942\u001b[0m     @rewrite_axis_style_signature('mapper', [('copy', True),\n",
      "\u001b[1;32mC:\\ProgramData\\Anaconda3\\lib\\site-packages\\pandas\\core\\generic.py\u001b[0m in \u001b[0;36mdrop\u001b[1;34m(self, labels, axis, index, columns, level, inplace, errors)\u001b[0m\n\u001b[0;32m   3778\u001b[0m         \u001b[1;32mfor\u001b[0m \u001b[0maxis\u001b[0m\u001b[1;33m,\u001b[0m \u001b[0mlabels\u001b[0m \u001b[1;32min\u001b[0m \u001b[0maxes\u001b[0m\u001b[1;33m.\u001b[0m\u001b[0mitems\u001b[0m\u001b[1;33m(\u001b[0m\u001b[1;33m)\u001b[0m\u001b[1;33m:\u001b[0m\u001b[1;33m\u001b[0m\u001b[1;33m\u001b[0m\u001b[0m\n\u001b[0;32m   3779\u001b[0m             \u001b[1;32mif\u001b[0m \u001b[0mlabels\u001b[0m \u001b[1;32mis\u001b[0m \u001b[1;32mnot\u001b[0m \u001b[1;32mNone\u001b[0m\u001b[1;33m:\u001b[0m\u001b[1;33m\u001b[0m\u001b[1;33m\u001b[0m\u001b[0m\n\u001b[1;32m-> 3780\u001b[1;33m                 \u001b[0mobj\u001b[0m \u001b[1;33m=\u001b[0m \u001b[0mobj\u001b[0m\u001b[1;33m.\u001b[0m\u001b[0m_drop_axis\u001b[0m\u001b[1;33m(\u001b[0m\u001b[0mlabels\u001b[0m\u001b[1;33m,\u001b[0m \u001b[0maxis\u001b[0m\u001b[1;33m,\u001b[0m \u001b[0mlevel\u001b[0m\u001b[1;33m=\u001b[0m\u001b[0mlevel\u001b[0m\u001b[1;33m,\u001b[0m \u001b[0merrors\u001b[0m\u001b[1;33m=\u001b[0m\u001b[0merrors\u001b[0m\u001b[1;33m)\u001b[0m\u001b[1;33m\u001b[0m\u001b[1;33m\u001b[0m\u001b[0m\n\u001b[0m\u001b[0;32m   3781\u001b[0m \u001b[1;33m\u001b[0m\u001b[0m\n\u001b[0;32m   3782\u001b[0m         \u001b[1;32mif\u001b[0m \u001b[0minplace\u001b[0m\u001b[1;33m:\u001b[0m\u001b[1;33m\u001b[0m\u001b[1;33m\u001b[0m\u001b[0m\n",
      "\u001b[1;32mC:\\ProgramData\\Anaconda3\\lib\\site-packages\\pandas\\core\\generic.py\u001b[0m in \u001b[0;36m_drop_axis\u001b[1;34m(self, labels, axis, level, errors)\u001b[0m\n\u001b[0;32m   3810\u001b[0m                 \u001b[0mnew_axis\u001b[0m \u001b[1;33m=\u001b[0m \u001b[0maxis\u001b[0m\u001b[1;33m.\u001b[0m\u001b[0mdrop\u001b[0m\u001b[1;33m(\u001b[0m\u001b[0mlabels\u001b[0m\u001b[1;33m,\u001b[0m \u001b[0mlevel\u001b[0m\u001b[1;33m=\u001b[0m\u001b[0mlevel\u001b[0m\u001b[1;33m,\u001b[0m \u001b[0merrors\u001b[0m\u001b[1;33m=\u001b[0m\u001b[0merrors\u001b[0m\u001b[1;33m)\u001b[0m\u001b[1;33m\u001b[0m\u001b[1;33m\u001b[0m\u001b[0m\n\u001b[0;32m   3811\u001b[0m             \u001b[1;32melse\u001b[0m\u001b[1;33m:\u001b[0m\u001b[1;33m\u001b[0m\u001b[1;33m\u001b[0m\u001b[0m\n\u001b[1;32m-> 3812\u001b[1;33m                 \u001b[0mnew_axis\u001b[0m \u001b[1;33m=\u001b[0m \u001b[0maxis\u001b[0m\u001b[1;33m.\u001b[0m\u001b[0mdrop\u001b[0m\u001b[1;33m(\u001b[0m\u001b[0mlabels\u001b[0m\u001b[1;33m,\u001b[0m \u001b[0merrors\u001b[0m\u001b[1;33m=\u001b[0m\u001b[0merrors\u001b[0m\u001b[1;33m)\u001b[0m\u001b[1;33m\u001b[0m\u001b[1;33m\u001b[0m\u001b[0m\n\u001b[0m\u001b[0;32m   3813\u001b[0m             \u001b[0mresult\u001b[0m \u001b[1;33m=\u001b[0m \u001b[0mself\u001b[0m\u001b[1;33m.\u001b[0m\u001b[0mreindex\u001b[0m\u001b[1;33m(\u001b[0m\u001b[1;33m**\u001b[0m\u001b[1;33m{\u001b[0m\u001b[0maxis_name\u001b[0m\u001b[1;33m:\u001b[0m \u001b[0mnew_axis\u001b[0m\u001b[1;33m}\u001b[0m\u001b[1;33m)\u001b[0m\u001b[1;33m\u001b[0m\u001b[1;33m\u001b[0m\u001b[0m\n\u001b[0;32m   3814\u001b[0m \u001b[1;33m\u001b[0m\u001b[0m\n",
      "\u001b[1;32mC:\\ProgramData\\Anaconda3\\lib\\site-packages\\pandas\\core\\indexes\\base.py\u001b[0m in \u001b[0;36mdrop\u001b[1;34m(self, labels, errors)\u001b[0m\n\u001b[0;32m   4963\u001b[0m             \u001b[1;32mif\u001b[0m \u001b[0merrors\u001b[0m \u001b[1;33m!=\u001b[0m \u001b[1;34m'ignore'\u001b[0m\u001b[1;33m:\u001b[0m\u001b[1;33m\u001b[0m\u001b[1;33m\u001b[0m\u001b[0m\n\u001b[0;32m   4964\u001b[0m                 raise KeyError(\n\u001b[1;32m-> 4965\u001b[1;33m                     '{} not found in axis'.format(labels[mask]))\n\u001b[0m\u001b[0;32m   4966\u001b[0m             \u001b[0mindexer\u001b[0m \u001b[1;33m=\u001b[0m \u001b[0mindexer\u001b[0m\u001b[1;33m[\u001b[0m\u001b[1;33m~\u001b[0m\u001b[0mmask\u001b[0m\u001b[1;33m]\u001b[0m\u001b[1;33m\u001b[0m\u001b[1;33m\u001b[0m\u001b[0m\n\u001b[0;32m   4967\u001b[0m         \u001b[1;32mreturn\u001b[0m \u001b[0mself\u001b[0m\u001b[1;33m.\u001b[0m\u001b[0mdelete\u001b[0m\u001b[1;33m(\u001b[0m\u001b[0mindexer\u001b[0m\u001b[1;33m)\u001b[0m\u001b[1;33m\u001b[0m\u001b[1;33m\u001b[0m\u001b[0m\n",
      "\u001b[1;31mKeyError\u001b[0m: \"['cancelled' 'cancellationcode'] not found in axis\""
     ]
    }
   ],
   "source": [
    "dfdelay = df.drop(columns=['cancelled','cancellationcode','crsdeptime','crsarrtime'], inplace=True) "
   ]
  },
  {
   "cell_type": "markdown",
   "metadata": {},
   "source": [
    "### Air Companies with highest average rate of delay"
   ]
  },
  {
   "cell_type": "code",
   "execution_count": 45,
   "metadata": {},
   "outputs": [],
   "source": [
    "dfdelay=df.copy()"
   ]
  },
  {
   "cell_type": "code",
   "execution_count": 46,
   "metadata": {},
   "outputs": [
    {
     "data": {
      "text/plain": [
       "uniquecarrier\n",
       "9E     908509\n",
       "AA    2821907\n",
       "AQ       8727\n",
       "AS     481833\n",
       "B6     677621\n",
       "CO     996161\n",
       "DL    1411220\n",
       "EV    1688969\n",
       "F9     250971\n",
       "FL     443708\n",
       "HA     184855\n",
       "MQ    1705271\n",
       "NW    1478247\n",
       "OH    1075766\n",
       "OO    1678216\n",
       "UA    1720150\n",
       "US    1109335\n",
       "WN    2261002\n",
       "XE    1218009\n",
       "YV    1927740\n",
       "Name: carrierdelay, dtype: int32"
      ]
     },
     "execution_count": 46,
     "metadata": {},
     "output_type": "execute_result"
    }
   ],
   "source": [
    "#Get number of cancelled flights per carrier\n",
    "carr_delay = dfdelay.groupby('uniquecarrier').carrierdelay.avg().reset_index()\n",
    "\n",
    "#Get number of flights per carrier\n",
    "carr_flights = dfdelay.groupby('uniquecarrier').flightnum.count().reset_index()\n",
    "\n",
    "#Left join the results to compute the cancellation rates\n",
    "df_delay = pd.merge(carr_delay,carr_flights,on='uniquecarrier',how = 'left')\n",
    "df_delay['avg'] = df_cancel.cancelled / df_cancel.flightnum * 100\n",
    "\n",
    "#Determine the order in which to show the carriers in the graph\n",
    "carrier_order = df_cancel.groupby('uniquecarrier').cancelrate.sum().sort_values(ascending=False).index.values"
   ]
  },
  {
   "cell_type": "code",
   "execution_count": 51,
   "metadata": {},
   "outputs": [
    {
     "data": {
      "text/html": [
       "<div>\n",
       "<style scoped>\n",
       "    .dataframe tbody tr th:only-of-type {\n",
       "        vertical-align: middle;\n",
       "    }\n",
       "\n",
       "    .dataframe tbody tr th {\n",
       "        vertical-align: top;\n",
       "    }\n",
       "\n",
       "    .dataframe thead th {\n",
       "        text-align: right;\n",
       "    }\n",
       "</style>\n",
       "<table border=\"1\" class=\"dataframe\">\n",
       "  <thead>\n",
       "    <tr style=\"text-align: right;\">\n",
       "      <th></th>\n",
       "      <th>uniquecarrier</th>\n",
       "      <th>carrierdelay</th>\n",
       "    </tr>\n",
       "  </thead>\n",
       "  <tbody>\n",
       "    <tr>\n",
       "      <th>19</th>\n",
       "      <td>YV</td>\n",
       "      <td>7.561841</td>\n",
       "    </tr>\n",
       "    <tr>\n",
       "      <th>7</th>\n",
       "      <td>EV</td>\n",
       "      <td>6.019670</td>\n",
       "    </tr>\n",
       "    <tr>\n",
       "      <th>13</th>\n",
       "      <td>OH</td>\n",
       "      <td>5.443967</td>\n",
       "    </tr>\n",
       "    <tr>\n",
       "      <th>1</th>\n",
       "      <td>AA</td>\n",
       "      <td>4.665196</td>\n",
       "    </tr>\n",
       "    <tr>\n",
       "      <th>12</th>\n",
       "      <td>NW</td>\n",
       "      <td>4.252088</td>\n",
       "    </tr>\n",
       "    <tr>\n",
       "      <th>15</th>\n",
       "      <td>UA</td>\n",
       "      <td>3.826680</td>\n",
       "    </tr>\n",
       "    <tr>\n",
       "      <th>11</th>\n",
       "      <td>MQ</td>\n",
       "      <td>3.475230</td>\n",
       "    </tr>\n",
       "    <tr>\n",
       "      <th>0</th>\n",
       "      <td>9E</td>\n",
       "      <td>3.464841</td>\n",
       "    </tr>\n",
       "    <tr>\n",
       "      <th>4</th>\n",
       "      <td>B6</td>\n",
       "      <td>3.455646</td>\n",
       "    </tr>\n",
       "    <tr>\n",
       "      <th>5</th>\n",
       "      <td>CO</td>\n",
       "      <td>3.337726</td>\n",
       "    </tr>\n",
       "    <tr>\n",
       "      <th>18</th>\n",
       "      <td>XE</td>\n",
       "      <td>3.252274</td>\n",
       "    </tr>\n",
       "    <tr>\n",
       "      <th>3</th>\n",
       "      <td>AS</td>\n",
       "      <td>3.188793</td>\n",
       "    </tr>\n",
       "    <tr>\n",
       "      <th>6</th>\n",
       "      <td>DL</td>\n",
       "      <td>3.122645</td>\n",
       "    </tr>\n",
       "    <tr>\n",
       "      <th>10</th>\n",
       "      <td>HA</td>\n",
       "      <td>2.989923</td>\n",
       "    </tr>\n",
       "    <tr>\n",
       "      <th>14</th>\n",
       "      <td>OO</td>\n",
       "      <td>2.958987</td>\n",
       "    </tr>\n",
       "    <tr>\n",
       "      <th>8</th>\n",
       "      <td>F9</td>\n",
       "      <td>2.620779</td>\n",
       "    </tr>\n",
       "    <tr>\n",
       "      <th>16</th>\n",
       "      <td>US</td>\n",
       "      <td>2.445683</td>\n",
       "    </tr>\n",
       "    <tr>\n",
       "      <th>17</th>\n",
       "      <td>WN</td>\n",
       "      <td>1.881418</td>\n",
       "    </tr>\n",
       "    <tr>\n",
       "      <th>9</th>\n",
       "      <td>FL</td>\n",
       "      <td>1.695587</td>\n",
       "    </tr>\n",
       "    <tr>\n",
       "      <th>2</th>\n",
       "      <td>AQ</td>\n",
       "      <td>1.118846</td>\n",
       "    </tr>\n",
       "  </tbody>\n",
       "</table>\n",
       "</div>"
      ],
      "text/plain": [
       "   uniquecarrier  carrierdelay\n",
       "19            YV      7.561841\n",
       "7             EV      6.019670\n",
       "13            OH      5.443967\n",
       "1             AA      4.665196\n",
       "12            NW      4.252088\n",
       "15            UA      3.826680\n",
       "11            MQ      3.475230\n",
       "0             9E      3.464841\n",
       "4             B6      3.455646\n",
       "5             CO      3.337726\n",
       "18            XE      3.252274\n",
       "3             AS      3.188793\n",
       "6             DL      3.122645\n",
       "10            HA      2.989923\n",
       "14            OO      2.958987\n",
       "8             F9      2.620779\n",
       "16            US      2.445683\n",
       "17            WN      1.881418\n",
       "9             FL      1.695587\n",
       "2             AQ      1.118846"
      ]
     },
     "execution_count": 51,
     "metadata": {},
     "output_type": "execute_result"
    }
   ],
   "source": [
    "dfdelay.groupby('uniquecarrier').carrierdelay.mean().reset_index().sort_values(ascending=False,by='carrierdelay')"
   ]
  },
  {
   "cell_type": "code",
   "execution_count": 64,
   "metadata": {},
   "outputs": [
    {
     "data": {
      "image/png": "[encoded data removed]",
      "text/plain": [
       "<Figure size 1296x432 with 1 Axes>"
      ]
     },
     "metadata": {
      "needs_background": "light"
     },
     "output_type": "display_data"
    }
   ],
   "source": [
    "mindelay = dfdelay[(dfdelay.uniquecarrier == 'YV') & (dfdelay.carrierdelay!=0)].carrierdelay.min()\n",
    "maxdelay = dfdelay[(dfdelay.uniquecarrier == 'YV') & (dfdelay.carrierdelay!=0)].carrierdelay.max()\n",
    "steps = 50\n",
    "bins = np.arange(mindelay,maxdelay,(maxdelay-mindelay)/steps)\n",
    "\n",
    "fig, ax = plt.subplots(figsize=(18,6))\n",
    "sns.distplot(dfdelay[(dfdelay.uniquecarrier == 'YV') & (dfdelay.carrierdelay!=0)].carrierdelay, kde=False, bins=bins, ax=ax);"
   ]
  },
  {
   "cell_type": "code",
   "execution_count": 79,
   "metadata": {},
   "outputs": [
    {
     "data": {
      "text/plain": [
       "<seaborn.axisgrid.FacetGrid at 0xe724fbdc88>"
      ]
     },
     "execution_count": 79,
     "metadata": {},
     "output_type": "execute_result"
    },
    {
     "data": {
      "image/png": "[encoded data removed]",
      "text/plain": [
       "<Figure size 864x1080 with 20 Axes>"
      ]
     },
     "metadata": {
      "needs_background": "light"
     },
     "output_type": "display_data"
    }
   ],
   "source": [
    "g = sns.FacetGrid(data = dfdelay[(dfdelay.carrierdelay!=0)], col = 'uniquecarrier', col_wrap = 4, height = 3,xlim=(0,500),ylim=(0,30000))\n",
    "g.map(sns.distplot, 'carrierdelay', kde = False)"
   ]
  },
  {
   "cell_type": "code",
   "execution_count": 87,
   "metadata": {},
   "outputs": [
    {
     "data": {
      "image/png": "[encoded data removed]",
      "text/plain": [
       "<Figure size 1296x432 with 1 Axes>"
      ]
     },
     "metadata": {
      "needs_background": "light"
     },
     "output_type": "display_data"
    }
   ],
   "source": [
    "fig, ax = plt.subplots(figsize=(18,6))\n",
    "ax.set_ylim([0,200])\n",
    "sns.boxplot(data = dfdelay[(dfdelay.carrierdelay!=0)], y = 'carrierdelay', x = 'uniquecarrier', ax = ax);"
   ]
  },
  {
   "cell_type": "code",
   "execution_count": 89,
   "metadata": {},
   "outputs": [
    {
     "data": {
      "image/png": "[encoded data removed]",
      "text/plain": [
       "<Figure size 1296x432 with 1 Axes>"
      ]
     },
     "metadata": {
      "needs_background": "light"
     },
     "output_type": "display_data"
    }
   ],
   "source": [
    "fig, ax = plt.subplots(figsize=(18,6))\n",
    "ax.set_ylim([0,200])\n",
    "sns.violinplot(data = dfdelay[(dfdelay.carrierdelay!=0)], y = 'carrierdelay', x = 'uniquecarrier', ax = ax, inner = 'quartile');"
   ]
  },
  {
   "cell_type": "code",
   "execution_count": 97,
   "metadata": {},
   "outputs": [
    {
     "data": {
      "text/plain": [
       "<matplotlib.axes._subplots.AxesSubplot at 0xe734a158d0>"
      ]
     },
     "execution_count": 97,
     "metadata": {},
     "output_type": "execute_result"
    },
    {
     "data": {
      "image/png": "[encoded data removed]",
      "text/plain": [
       "<Figure size 1296x432 with 2 Axes>"
      ]
     },
     "metadata": {
      "needs_background": "light"
     },
     "output_type": "display_data"
    }
   ],
   "source": [
    "testdf = dfdelay.groupby(['uniquecarrier','month']).weatherdelay.sum().reset_index(name='weatherdelay')\n",
    "testdf = testdf.pivot(index = 'uniquecarrier', columns = 'month', values = 'weatherdelay')\n",
    "testdf\n",
    "\n",
    "fig, ax = plt.subplots(figsize=(18,6))\n",
    "sns.heatmap(testdf, annot = True, ax = ax)"
   ]
  },
  {
   "cell_type": "code",
   "execution_count": 99,
   "metadata": {},
   "outputs": [
    {
     "data": {
      "text/plain": [
       "Index(['month', 'dayofmonth', 'dayofweek', 'deptime', 'arrtime',\n",
       "       'uniquecarrier', 'flightnum', 'airtime', 'arrdelay', 'depdelay',\n",
       "       'origin', 'dest', 'distance', 'carrierdelay', 'weatherdelay',\n",
       "       'nasdelay', 'securitydelay', 'lateaircraftdelay'],\n",
       "      dtype='object')"
      ]
     },
     "execution_count": 99,
     "metadata": {},
     "output_type": "execute_result"
    }
   ],
   "source": [
    "dfdelay.columns"
   ]
  },
  {
   "cell_type": "code",
   "execution_count": 104,
   "metadata": {},
   "outputs": [
    {
     "data": {
      "image/png": "[encoded data removed]",
      "text/plain": [
       "<Figure size 432x288 with 2 Axes>"
      ]
     },
     "metadata": {
      "needs_background": "light"
     },
     "output_type": "display_data"
    }
   ],
   "source": [
    "sns.heatmap(dfdelay[['airtime','distance','arrdelay']].corr(),annot = True);"
   ]
  },
  {
   "cell_type": "code",
   "execution_count": 105,
   "metadata": {},
   "outputs": [
    {
     "ename": "AttributeError",
     "evalue": "module 'seaborn' has no attribute 'Pairgrid'",
     "output_type": "error",
     "traceback": [
      "\u001b[1;31m---------------------------------------------------------------------------\u001b[0m",
      "\u001b[1;31mAttributeError\u001b[0m                            Traceback (most recent call last)",
      "\u001b[1;32m<ipython-input-105-7b0ab65f2f66>\u001b[0m in \u001b[0;36m<module>\u001b[1;34m\u001b[0m\n\u001b[1;32m----> 1\u001b[1;33m \u001b[0mg\u001b[0m \u001b[1;33m=\u001b[0m \u001b[0msns\u001b[0m\u001b[1;33m.\u001b[0m\u001b[0mPairgrid\u001b[0m\u001b[1;33m(\u001b[0m\u001b[0mdata\u001b[0m \u001b[1;33m=\u001b[0m \u001b[0mdfdelay\u001b[0m\u001b[1;33m,\u001b[0m \u001b[0mvars\u001b[0m \u001b[1;33m=\u001b[0m \u001b[1;33m[\u001b[0m\u001b[1;34m'airtime'\u001b[0m\u001b[1;33m,\u001b[0m\u001b[1;34m'distance'\u001b[0m\u001b[1;33m,\u001b[0m\u001b[1;34m'arrdelay'\u001b[0m\u001b[1;33m]\u001b[0m\u001b[1;33m)\u001b[0m\u001b[1;33m\u001b[0m\u001b[1;33m\u001b[0m\u001b[0m\n\u001b[0m\u001b[0;32m      2\u001b[0m \u001b[0mg\u001b[0m\u001b[1;33m.\u001b[0m\u001b[0mmap_diag\u001b[0m\u001b[1;33m(\u001b[0m\u001b[0mplt\u001b[0m\u001b[1;33m.\u001b[0m\u001b[0mhist\u001b[0m\u001b[1;33m)\u001b[0m\u001b[1;33m\u001b[0m\u001b[1;33m\u001b[0m\u001b[0m\n\u001b[0;32m      3\u001b[0m \u001b[0mg\u001b[0m\u001b[1;33m.\u001b[0m\u001b[0mmap_offdiag\u001b[0m\u001b[1;33m(\u001b[0m\u001b[0mplt\u001b[0m\u001b[1;33m.\u001b[0m\u001b[0mscatter\u001b[0m\u001b[1;33m)\u001b[0m\u001b[1;33m\u001b[0m\u001b[1;33m\u001b[0m\u001b[0m\n",
      "\u001b[1;31mAttributeError\u001b[0m: module 'seaborn' has no attribute 'Pairgrid'"
     ]
    }
   ],
   "source": [
    "g = sns.Pairgrid(data = dfdelay, vars = ['airtime','distance','arrdelay'])\n",
    "g.map_diag(plt.hist)\n",
    "g.map_offdiag(plt.scatter)"
   ]
  }
 ],
 "metadata": {
  "kernelspec": {
   "display_name": "Python 3",
   "language": "python",
   "name": "python3"
  },
  "language_info": {
   "codemirror_mode": {
    "name": "ipython",
    "version": 3
   },
   "file_extension": ".py",
   "mimetype": "text/x-python",
   "name": "python",
   "nbconvert_exporter": "python",
   "pygments_lexer": "ipython3",
   "version": "3.6.8"
  }
 },
 "nbformat": 4,
 "nbformat_minor": 2
}
